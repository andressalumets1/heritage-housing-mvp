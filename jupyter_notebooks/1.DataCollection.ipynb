{
  "cells": [
    {
      "cell_type": "markdown",
      "metadata": {
        "id": "0aStgWSO0E0E"
      },
      "source": [
        "# **1. Data Collection**"
      ]
    },
    {
      "cell_type": "markdown",
      "metadata": {
        "id": "1eLEkw5O0ECa"
      },
      "source": [
        "## Objectives\n",
        "1. Setup the environment\n",
        "2. Fetch and load the data\n",
        "3. Inspect and save the data.\n",
        "\n",
        "## Inputs\n",
        "1. Kaggle API\n",
        "2. Kaggle Dataset Path\n",
        "3. Python packages\n",
        "\n",
        "## Outputs\n",
        "1. Environment setup confirmation\n",
        "2. Download dataset\n",
        "3. Loaded dataframes\n",
        "4. Initial data inspection\n",
        "5. Saved CSV files\n",
        "6. Documentation\n",
        "\n",
        "## Additional Comments\n",
        "* Ensure that the Kaggle API key ('kaggle.json') is stored securely and properly configured.\n",
        "* Handle any potential errors during the setup, data fetching, and data saving processes.\n",
        "* Document any assumptions or observations made during the data inspection phase to inform further analysis."
      ]
    },
    {
      "cell_type": "markdown",
      "metadata": {
        "id": "9uWZXH9LwoQg"
      },
      "source": [
        "---"
      ]
    },
    {
      "cell_type": "markdown",
      "metadata": {},
      "source": [
        "# Install packages"
      ]
    },
    {
      "cell_type": "code",
      "execution_count": 1,
      "metadata": {},
      "outputs": [
        {
          "name": "stdout",
          "output_type": "stream",
          "text": [
            "Collecting numpy==1.18.5 (from -r /workspace/heritage-housing-mvp/requirements.txt (line 1))\n",
            "  Downloading numpy-1.18.5-cp38-cp38-manylinux1_x86_64.whl.metadata (2.1 kB)\n",
            "Collecting pandas==1.4.2 (from -r /workspace/heritage-housing-mvp/requirements.txt (line 2))\n",
            "  Downloading pandas-1.4.2-cp38-cp38-manylinux_2_17_x86_64.manylinux2014_x86_64.whl.metadata (12 kB)\n",
            "Collecting matplotlib==3.3.1 (from -r /workspace/heritage-housing-mvp/requirements.txt (line 3))\n",
            "  Downloading matplotlib-3.3.1-cp38-cp38-manylinux1_x86_64.whl.metadata (5.7 kB)\n",
            "Collecting seaborn==0.11.0 (from -r /workspace/heritage-housing-mvp/requirements.txt (line 4))\n",
            "  Downloading seaborn-0.11.0-py3-none-any.whl.metadata (2.2 kB)\n",
            "Collecting ydata-profiling==4.4.0 (from -r /workspace/heritage-housing-mvp/requirements.txt (line 5))\n",
            "  Downloading ydata_profiling-4.4.0-py2.py3-none-any.whl.metadata (20 kB)\n",
            "Collecting plotly==4.12.0 (from -r /workspace/heritage-housing-mvp/requirements.txt (line 6))\n",
            "  Downloading plotly-4.12.0-py2.py3-none-any.whl.metadata (7.6 kB)\n",
            "Collecting ppscore==1.2.0 (from -r /workspace/heritage-housing-mvp/requirements.txt (line 7))\n",
            "  Downloading ppscore-1.2.0.tar.gz (47 kB)\n",
            "\u001b[2K     \u001b[90m━━━━━━━━━━━━━━━━━━━━━━━━━━━━━━━━━━━━━━━━\u001b[0m \u001b[32m47.1/47.1 kB\u001b[0m \u001b[31m4.9 MB/s\u001b[0m eta \u001b[36m0:00:00\u001b[0m\n",
            "\u001b[?25h  Preparing metadata (setup.py) ... \u001b[?25ldone\n",
            "\u001b[?25hCollecting streamlit==0.85.0 (from -r /workspace/heritage-housing-mvp/requirements.txt (line 9))\n",
            "  Downloading streamlit-0.85.0-py2.py3-none-any.whl.metadata (1.1 kB)\n",
            "Collecting feature-engine==1.0.2 (from -r /workspace/heritage-housing-mvp/requirements.txt (line 11))\n",
            "  Downloading feature_engine-1.0.2-py2.py3-none-any.whl.metadata (7.1 kB)\n",
            "Collecting imbalanced-learn==0.8.0 (from -r /workspace/heritage-housing-mvp/requirements.txt (line 12))\n",
            "  Downloading imbalanced_learn-0.8.0-py3-none-any.whl.metadata (11 kB)\n",
            "Collecting scikit-learn==0.24.2 (from -r /workspace/heritage-housing-mvp/requirements.txt (line 13))\n",
            "  Downloading scikit_learn-0.24.2-cp38-cp38-manylinux2010_x86_64.whl.metadata (9.8 kB)\n",
            "Collecting xgboost==1.2.1 (from -r /workspace/heritage-housing-mvp/requirements.txt (line 14))\n",
            "  Downloading xgboost-1.2.1-py3-none-manylinux2010_x86_64.whl.metadata (1.7 kB)\n",
            "Collecting yellowbrick==1.3 (from -r /workspace/heritage-housing-mvp/requirements.txt (line 15))\n",
            "  Downloading yellowbrick-1.3-py3-none-any.whl.metadata (7.6 kB)\n",
            "Collecting Jinja2==3.1.1 (from -r /workspace/heritage-housing-mvp/requirements.txt (line 16))\n",
            "  Downloading Jinja2-3.1.1-py3-none-any.whl.metadata (3.5 kB)\n",
            "Collecting MarkupSafe==2.0.1 (from -r /workspace/heritage-housing-mvp/requirements.txt (line 17))\n",
            "  Downloading MarkupSafe-2.0.1-cp38-cp38-manylinux_2_5_x86_64.manylinux1_x86_64.manylinux_2_12_x86_64.manylinux2010_x86_64.whl.metadata (3.2 kB)\n",
            "Collecting protobuf==3.20 (from -r /workspace/heritage-housing-mvp/requirements.txt (line 18))\n",
            "  Downloading protobuf-3.20.0-cp38-cp38-manylinux_2_5_x86_64.manylinux1_x86_64.whl.metadata (698 bytes)\n",
            "Collecting ipywidgets==8.0.2 (from -r /workspace/heritage-housing-mvp/requirements.txt (line 19))\n",
            "  Downloading ipywidgets-8.0.2-py3-none-any.whl.metadata (2.3 kB)\n",
            "Collecting altair<5 (from -r /workspace/heritage-housing-mvp/requirements.txt (line 20))\n",
            "  Downloading altair-4.2.2-py3-none-any.whl.metadata (13 kB)\n",
            "Requirement already satisfied: python-dateutil>=2.8.1 in /home/gitpod/.pyenv/versions/3.8.18/lib/python3.8/site-packages (from pandas==1.4.2->-r /workspace/heritage-housing-mvp/requirements.txt (line 2)) (2.9.0.post0)\n",
            "Requirement already satisfied: pytz>=2020.1 in /home/gitpod/.pyenv/versions/3.8.18/lib/python3.8/site-packages (from pandas==1.4.2->-r /workspace/heritage-housing-mvp/requirements.txt (line 2)) (2024.1)\n",
            "Requirement already satisfied: certifi>=2020.06.20 in /home/gitpod/.pyenv/versions/3.8.18/lib/python3.8/site-packages (from matplotlib==3.3.1->-r /workspace/heritage-housing-mvp/requirements.txt (line 3)) (2024.6.2)\n",
            "Collecting cycler>=0.10 (from matplotlib==3.3.1->-r /workspace/heritage-housing-mvp/requirements.txt (line 3))\n",
            "  Downloading cycler-0.12.1-py3-none-any.whl.metadata (3.8 kB)\n",
            "Collecting kiwisolver>=1.0.1 (from matplotlib==3.3.1->-r /workspace/heritage-housing-mvp/requirements.txt (line 3))\n",
            "  Downloading kiwisolver-1.4.5-cp38-cp38-manylinux_2_5_x86_64.manylinux1_x86_64.whl.metadata (6.4 kB)\n",
            "Collecting pillow>=6.2.0 (from matplotlib==3.3.1->-r /workspace/heritage-housing-mvp/requirements.txt (line 3))\n",
            "  Downloading pillow-10.3.0-cp38-cp38-manylinux_2_28_x86_64.whl.metadata (9.2 kB)\n",
            "Collecting pyparsing!=2.0.4,!=2.1.2,!=2.1.6,>=2.0.3 (from matplotlib==3.3.1->-r /workspace/heritage-housing-mvp/requirements.txt (line 3))\n",
            "  Downloading pyparsing-3.1.2-py3-none-any.whl.metadata (5.1 kB)\n",
            "Collecting scipy>=1.0 (from seaborn==0.11.0->-r /workspace/heritage-housing-mvp/requirements.txt (line 4))\n",
            "  Downloading scipy-1.10.1-cp38-cp38-manylinux_2_17_x86_64.manylinux2014_x86_64.whl.metadata (58 kB)\n",
            "\u001b[2K     \u001b[90m━━━━━━━━━━━━━━━━━━━━━━━━━━━━━━━━━━━━━━━━\u001b[0m \u001b[32m58.9/58.9 kB\u001b[0m \u001b[31m8.9 MB/s\u001b[0m eta \u001b[36m0:00:00\u001b[0m\n",
            "\u001b[?25hCollecting pydantic<2,>=1.8.1 (from ydata-profiling==4.4.0->-r /workspace/heritage-housing-mvp/requirements.txt (line 5))\n",
            "  Downloading pydantic-1.10.17-cp38-cp38-manylinux_2_17_x86_64.manylinux2014_x86_64.whl.metadata (151 kB)\n",
            "\u001b[2K     \u001b[90m━━━━━━━━━━━━━━━━━━━━━━━━━━━━━━━━━━━━━━\u001b[0m \u001b[32m151.6/151.6 kB\u001b[0m \u001b[31m16.2 MB/s\u001b[0m eta \u001b[36m0:00:00\u001b[0m\n",
            "\u001b[?25hRequirement already satisfied: PyYAML<6.1,>=5.0.0 in /home/gitpod/.pyenv/versions/3.8.18/lib/python3.8/site-packages (from ydata-profiling==4.4.0->-r /workspace/heritage-housing-mvp/requirements.txt (line 5)) (6.0.1)\n",
            "Collecting visions==0.7.5 (from visions[type_image_path]==0.7.5->ydata-profiling==4.4.0->-r /workspace/heritage-housing-mvp/requirements.txt (line 5))\n",
            "  Downloading visions-0.7.5-py3-none-any.whl.metadata (6.3 kB)\n",
            "Collecting htmlmin==0.1.12 (from ydata-profiling==4.4.0->-r /workspace/heritage-housing-mvp/requirements.txt (line 5))\n",
            "  Downloading htmlmin-0.1.12.tar.gz (19 kB)\n",
            "  Preparing metadata (setup.py) ... \u001b[?25ldone\n",
            "\u001b[?25hCollecting phik<0.13,>=0.11.1 (from ydata-profiling==4.4.0->-r /workspace/heritage-housing-mvp/requirements.txt (line 5))\n",
            "  Downloading phik-0.12.4-cp38-cp38-manylinux_2_17_x86_64.manylinux2014_x86_64.whl.metadata (5.6 kB)\n",
            "Requirement already satisfied: requests<3,>=2.24.0 in /home/gitpod/.pyenv/versions/3.8.18/lib/python3.8/site-packages (from ydata-profiling==4.4.0->-r /workspace/heritage-housing-mvp/requirements.txt (line 5)) (2.32.3)\n",
            "Collecting tqdm<5,>=4.48.2 (from ydata-profiling==4.4.0->-r /workspace/heritage-housing-mvp/requirements.txt (line 5))\n",
            "  Downloading tqdm-4.66.4-py3-none-any.whl.metadata (57 kB)\n",
            "\u001b[2K     \u001b[90m━━━━━━━━━━━━━━━━━━━━━━━━━━━━━━━━━━━━━━━━\u001b[0m \u001b[32m57.6/57.6 kB\u001b[0m \u001b[31m9.9 MB/s\u001b[0m eta \u001b[36m0:00:00\u001b[0m\n",
            "\u001b[?25hCollecting multimethod<2,>=1.4 (from ydata-profiling==4.4.0->-r /workspace/heritage-housing-mvp/requirements.txt (line 5))\n",
            "  Downloading multimethod-1.10-py3-none-any.whl.metadata (8.2 kB)\n",
            "Collecting statsmodels<1,>=0.13.2 (from ydata-profiling==4.4.0->-r /workspace/heritage-housing-mvp/requirements.txt (line 5))\n",
            "  Downloading statsmodels-0.14.1-cp38-cp38-manylinux_2_17_x86_64.manylinux2014_x86_64.whl.metadata (9.5 kB)\n",
            "Collecting typeguard<3,>=2.13.2 (from ydata-profiling==4.4.0->-r /workspace/heritage-housing-mvp/requirements.txt (line 5))\n",
            "  Downloading typeguard-2.13.3-py3-none-any.whl.metadata (3.6 kB)\n",
            "Collecting imagehash==4.3.1 (from ydata-profiling==4.4.0->-r /workspace/heritage-housing-mvp/requirements.txt (line 5))\n",
            "  Downloading ImageHash-4.3.1-py2.py3-none-any.whl.metadata (8.0 kB)\n",
            "Collecting wordcloud>=1.9.1 (from ydata-profiling==4.4.0->-r /workspace/heritage-housing-mvp/requirements.txt (line 5))\n",
            "  Downloading wordcloud-1.9.3-cp38-cp38-manylinux_2_17_x86_64.manylinux2014_x86_64.whl.metadata (3.4 kB)\n",
            "Collecting dacite>=1.8 (from ydata-profiling==4.4.0->-r /workspace/heritage-housing-mvp/requirements.txt (line 5))\n",
            "  Downloading dacite-1.8.1-py3-none-any.whl.metadata (15 kB)\n",
            "Collecting retrying>=1.3.3 (from plotly==4.12.0->-r /workspace/heritage-housing-mvp/requirements.txt (line 6))\n",
            "  Downloading retrying-1.3.4-py3-none-any.whl.metadata (6.9 kB)\n",
            "Requirement already satisfied: six in /home/gitpod/.pyenv/versions/3.8.18/lib/python3.8/site-packages (from plotly==4.12.0->-r /workspace/heritage-housing-mvp/requirements.txt (line 6)) (1.16.0)\n",
            "Collecting astor (from streamlit==0.85.0->-r /workspace/heritage-housing-mvp/requirements.txt (line 9))\n",
            "  Downloading astor-0.8.1-py2.py3-none-any.whl.metadata (4.2 kB)\n",
            "Requirement already satisfied: attrs in /home/gitpod/.pyenv/versions/3.8.18/lib/python3.8/site-packages (from streamlit==0.85.0->-r /workspace/heritage-housing-mvp/requirements.txt (line 9)) (23.2.0)\n",
            "Collecting base58 (from streamlit==0.85.0->-r /workspace/heritage-housing-mvp/requirements.txt (line 9))\n",
            "  Downloading base58-2.1.1-py3-none-any.whl.metadata (3.1 kB)\n",
            "Collecting blinker (from streamlit==0.85.0->-r /workspace/heritage-housing-mvp/requirements.txt (line 9))\n",
            "  Downloading blinker-1.8.2-py3-none-any.whl.metadata (1.6 kB)\n",
            "Collecting cachetools>=4.0 (from streamlit==0.85.0->-r /workspace/heritage-housing-mvp/requirements.txt (line 9))\n",
            "  Downloading cachetools-5.3.3-py3-none-any.whl.metadata (5.3 kB)\n",
            "Collecting click<8.0,>=7.0 (from streamlit==0.85.0->-r /workspace/heritage-housing-mvp/requirements.txt (line 9))\n",
            "  Downloading click-7.1.2-py2.py3-none-any.whl.metadata (2.9 kB)\n",
            "Requirement already satisfied: packaging in /home/gitpod/.pyenv/versions/3.8.18/lib/python3.8/site-packages (from streamlit==0.85.0->-r /workspace/heritage-housing-mvp/requirements.txt (line 9)) (24.1)\n",
            "Collecting pyarrow (from streamlit==0.85.0->-r /workspace/heritage-housing-mvp/requirements.txt (line 9))\n",
            "  Downloading pyarrow-16.1.0-cp38-cp38-manylinux_2_28_x86_64.whl.metadata (3.0 kB)\n",
            "Collecting pydeck>=0.1.dev5 (from streamlit==0.85.0->-r /workspace/heritage-housing-mvp/requirements.txt (line 9))\n",
            "  Downloading pydeck-0.9.1-py2.py3-none-any.whl.metadata (4.1 kB)\n",
            "Collecting toml (from streamlit==0.85.0->-r /workspace/heritage-housing-mvp/requirements.txt (line 9))\n",
            "  Downloading toml-0.10.2-py2.py3-none-any.whl.metadata (7.1 kB)\n",
            "Requirement already satisfied: tornado>=5.0 in /home/gitpod/.pyenv/versions/3.8.18/lib/python3.8/site-packages (from streamlit==0.85.0->-r /workspace/heritage-housing-mvp/requirements.txt (line 9)) (6.4.1)\n",
            "Collecting tzlocal (from streamlit==0.85.0->-r /workspace/heritage-housing-mvp/requirements.txt (line 9))\n",
            "  Downloading tzlocal-5.2-py3-none-any.whl.metadata (7.8 kB)\n",
            "Collecting validators (from streamlit==0.85.0->-r /workspace/heritage-housing-mvp/requirements.txt (line 9))\n",
            "  Downloading validators-0.28.3-py3-none-any.whl.metadata (3.6 kB)\n",
            "Collecting gitpython (from streamlit==0.85.0->-r /workspace/heritage-housing-mvp/requirements.txt (line 9))\n",
            "  Downloading GitPython-3.1.43-py3-none-any.whl.metadata (13 kB)\n",
            "Collecting watchdog (from streamlit==0.85.0->-r /workspace/heritage-housing-mvp/requirements.txt (line 9))\n",
            "  Downloading watchdog-4.0.1-py3-none-manylinux2014_x86_64.whl.metadata (37 kB)\n",
            "Collecting joblib>=0.11 (from imbalanced-learn==0.8.0->-r /workspace/heritage-housing-mvp/requirements.txt (line 12))\n",
            "  Downloading joblib-1.4.2-py3-none-any.whl.metadata (5.4 kB)\n",
            "Collecting threadpoolctl>=2.0.0 (from scikit-learn==0.24.2->-r /workspace/heritage-housing-mvp/requirements.txt (line 13))\n",
            "  Downloading threadpoolctl-3.5.0-py3-none-any.whl.metadata (13 kB)\n",
            "Requirement already satisfied: ipykernel>=4.5.1 in /home/gitpod/.pyenv/versions/3.8.18/lib/python3.8/site-packages (from ipywidgets==8.0.2->-r /workspace/heritage-housing-mvp/requirements.txt (line 19)) (6.29.4)\n",
            "Requirement already satisfied: ipython>=6.1.0 in /home/gitpod/.pyenv/versions/3.8.18/lib/python3.8/site-packages (from ipywidgets==8.0.2->-r /workspace/heritage-housing-mvp/requirements.txt (line 19)) (8.12.3)\n",
            "Requirement already satisfied: traitlets>=4.3.1 in /home/gitpod/.pyenv/versions/3.8.18/lib/python3.8/site-packages (from ipywidgets==8.0.2->-r /workspace/heritage-housing-mvp/requirements.txt (line 19)) (5.14.3)\n",
            "Collecting widgetsnbextension~=4.0 (from ipywidgets==8.0.2->-r /workspace/heritage-housing-mvp/requirements.txt (line 19))\n",
            "  Downloading widgetsnbextension-4.0.11-py3-none-any.whl.metadata (1.6 kB)\n",
            "Collecting jupyterlab-widgets~=3.0 (from ipywidgets==8.0.2->-r /workspace/heritage-housing-mvp/requirements.txt (line 19))\n",
            "  Downloading jupyterlab_widgets-3.0.11-py3-none-any.whl.metadata (4.1 kB)\n",
            "Collecting PyWavelets (from imagehash==4.3.1->ydata-profiling==4.4.0->-r /workspace/heritage-housing-mvp/requirements.txt (line 5))\n",
            "  Downloading PyWavelets-1.4.1-cp38-cp38-manylinux_2_17_x86_64.manylinux2014_x86_64.whl.metadata (1.9 kB)\n",
            "Collecting networkx>=2.4 (from visions==0.7.5->visions[type_image_path]==0.7.5->ydata-profiling==4.4.0->-r /workspace/heritage-housing-mvp/requirements.txt (line 5))\n",
            "  Downloading networkx-3.1-py3-none-any.whl.metadata (5.3 kB)\n",
            "Collecting tangled-up-in-unicode>=0.0.4 (from visions==0.7.5->visions[type_image_path]==0.7.5->ydata-profiling==4.4.0->-r /workspace/heritage-housing-mvp/requirements.txt (line 5))\n",
            "  Downloading tangled_up_in_unicode-0.2.0-py3-none-any.whl.metadata (4.8 kB)\n",
            "\u001b[33mWARNING: visions 0.7.5 does not provide the extra 'type-image-path'\u001b[0m\u001b[33m\n",
            "\u001b[0mCollecting entrypoints (from altair<5->-r /workspace/heritage-housing-mvp/requirements.txt (line 20))\n",
            "  Downloading entrypoints-0.4-py3-none-any.whl.metadata (2.6 kB)\n",
            "Requirement already satisfied: jsonschema>=3.0 in /home/gitpod/.pyenv/versions/3.8.18/lib/python3.8/site-packages (from altair<5->-r /workspace/heritage-housing-mvp/requirements.txt (line 20)) (4.22.0)\n",
            "Collecting toolz (from altair<5->-r /workspace/heritage-housing-mvp/requirements.txt (line 20))\n",
            "  Downloading toolz-0.12.1-py3-none-any.whl.metadata (5.1 kB)\n",
            "Requirement already satisfied: comm>=0.1.1 in /home/gitpod/.pyenv/versions/3.8.18/lib/python3.8/site-packages (from ipykernel>=4.5.1->ipywidgets==8.0.2->-r /workspace/heritage-housing-mvp/requirements.txt (line 19)) (0.2.2)\n",
            "Requirement already satisfied: debugpy>=1.6.5 in /home/gitpod/.pyenv/versions/3.8.18/lib/python3.8/site-packages (from ipykernel>=4.5.1->ipywidgets==8.0.2->-r /workspace/heritage-housing-mvp/requirements.txt (line 19)) (1.8.1)\n",
            "Requirement already satisfied: jupyter-client>=6.1.12 in /home/gitpod/.pyenv/versions/3.8.18/lib/python3.8/site-packages (from ipykernel>=4.5.1->ipywidgets==8.0.2->-r /workspace/heritage-housing-mvp/requirements.txt (line 19)) (8.6.2)\n",
            "Requirement already satisfied: jupyter-core!=5.0.*,>=4.12 in /home/gitpod/.pyenv/versions/3.8.18/lib/python3.8/site-packages (from ipykernel>=4.5.1->ipywidgets==8.0.2->-r /workspace/heritage-housing-mvp/requirements.txt (line 19)) (5.7.2)\n",
            "Requirement already satisfied: matplotlib-inline>=0.1 in /home/gitpod/.pyenv/versions/3.8.18/lib/python3.8/site-packages (from ipykernel>=4.5.1->ipywidgets==8.0.2->-r /workspace/heritage-housing-mvp/requirements.txt (line 19)) (0.1.7)\n",
            "Requirement already satisfied: nest-asyncio in /home/gitpod/.pyenv/versions/3.8.18/lib/python3.8/site-packages (from ipykernel>=4.5.1->ipywidgets==8.0.2->-r /workspace/heritage-housing-mvp/requirements.txt (line 19)) (1.6.0)\n",
            "Requirement already satisfied: psutil in /home/gitpod/.pyenv/versions/3.8.18/lib/python3.8/site-packages (from ipykernel>=4.5.1->ipywidgets==8.0.2->-r /workspace/heritage-housing-mvp/requirements.txt (line 19)) (5.9.8)\n",
            "Requirement already satisfied: pyzmq>=24 in /home/gitpod/.pyenv/versions/3.8.18/lib/python3.8/site-packages (from ipykernel>=4.5.1->ipywidgets==8.0.2->-r /workspace/heritage-housing-mvp/requirements.txt (line 19)) (26.0.3)\n",
            "Requirement already satisfied: backcall in /home/gitpod/.pyenv/versions/3.8.18/lib/python3.8/site-packages (from ipython>=6.1.0->ipywidgets==8.0.2->-r /workspace/heritage-housing-mvp/requirements.txt (line 19)) (0.2.0)\n",
            "Requirement already satisfied: decorator in /home/gitpod/.pyenv/versions/3.8.18/lib/python3.8/site-packages (from ipython>=6.1.0->ipywidgets==8.0.2->-r /workspace/heritage-housing-mvp/requirements.txt (line 19)) (5.1.1)\n",
            "Requirement already satisfied: jedi>=0.16 in /home/gitpod/.pyenv/versions/3.8.18/lib/python3.8/site-packages (from ipython>=6.1.0->ipywidgets==8.0.2->-r /workspace/heritage-housing-mvp/requirements.txt (line 19)) (0.19.1)\n",
            "Requirement already satisfied: pickleshare in /home/gitpod/.pyenv/versions/3.8.18/lib/python3.8/site-packages (from ipython>=6.1.0->ipywidgets==8.0.2->-r /workspace/heritage-housing-mvp/requirements.txt (line 19)) (0.7.5)\n",
            "Requirement already satisfied: prompt-toolkit!=3.0.37,<3.1.0,>=3.0.30 in /home/gitpod/.pyenv/versions/3.8.18/lib/python3.8/site-packages (from ipython>=6.1.0->ipywidgets==8.0.2->-r /workspace/heritage-housing-mvp/requirements.txt (line 19)) (3.0.47)\n",
            "Requirement already satisfied: pygments>=2.4.0 in /home/gitpod/.pyenv/versions/3.8.18/lib/python3.8/site-packages (from ipython>=6.1.0->ipywidgets==8.0.2->-r /workspace/heritage-housing-mvp/requirements.txt (line 19)) (2.18.0)\n",
            "Requirement already satisfied: stack-data in /home/gitpod/.pyenv/versions/3.8.18/lib/python3.8/site-packages (from ipython>=6.1.0->ipywidgets==8.0.2->-r /workspace/heritage-housing-mvp/requirements.txt (line 19)) (0.6.3)\n",
            "Requirement already satisfied: typing-extensions in /home/gitpod/.pyenv/versions/3.8.18/lib/python3.8/site-packages (from ipython>=6.1.0->ipywidgets==8.0.2->-r /workspace/heritage-housing-mvp/requirements.txt (line 19)) (4.12.2)\n",
            "Requirement already satisfied: pexpect>4.3 in /home/gitpod/.pyenv/versions/3.8.18/lib/python3.8/site-packages (from ipython>=6.1.0->ipywidgets==8.0.2->-r /workspace/heritage-housing-mvp/requirements.txt (line 19)) (4.9.0)\n",
            "Requirement already satisfied: importlib-resources>=1.4.0 in /home/gitpod/.pyenv/versions/3.8.18/lib/python3.8/site-packages (from jsonschema>=3.0->altair<5->-r /workspace/heritage-housing-mvp/requirements.txt (line 20)) (6.4.0)\n",
            "Requirement already satisfied: jsonschema-specifications>=2023.03.6 in /home/gitpod/.pyenv/versions/3.8.18/lib/python3.8/site-packages (from jsonschema>=3.0->altair<5->-r /workspace/heritage-housing-mvp/requirements.txt (line 20)) (2023.12.1)\n",
            "Requirement already satisfied: pkgutil-resolve-name>=1.3.10 in /home/gitpod/.pyenv/versions/3.8.18/lib/python3.8/site-packages (from jsonschema>=3.0->altair<5->-r /workspace/heritage-housing-mvp/requirements.txt (line 20)) (1.3.10)\n",
            "Requirement already satisfied: referencing>=0.28.4 in /home/gitpod/.pyenv/versions/3.8.18/lib/python3.8/site-packages (from jsonschema>=3.0->altair<5->-r /workspace/heritage-housing-mvp/requirements.txt (line 20)) (0.35.1)\n",
            "Requirement already satisfied: rpds-py>=0.7.1 in /home/gitpod/.pyenv/versions/3.8.18/lib/python3.8/site-packages (from jsonschema>=3.0->altair<5->-r /workspace/heritage-housing-mvp/requirements.txt (line 20)) (0.18.1)\n",
            "Requirement already satisfied: charset-normalizer<4,>=2 in /home/gitpod/.pyenv/versions/3.8.18/lib/python3.8/site-packages (from requests<3,>=2.24.0->ydata-profiling==4.4.0->-r /workspace/heritage-housing-mvp/requirements.txt (line 5)) (3.3.2)\n",
            "Requirement already satisfied: idna<4,>=2.5 in /home/gitpod/.pyenv/versions/3.8.18/lib/python3.8/site-packages (from requests<3,>=2.24.0->ydata-profiling==4.4.0->-r /workspace/heritage-housing-mvp/requirements.txt (line 5)) (3.7)\n",
            "Requirement already satisfied: urllib3<3,>=1.21.1 in /home/gitpod/.pyenv/versions/3.8.18/lib/python3.8/site-packages (from requests<3,>=2.24.0->ydata-profiling==4.4.0->-r /workspace/heritage-housing-mvp/requirements.txt (line 5)) (2.2.1)\n",
            "INFO: pip is looking at multiple versions of scipy to determine which version is compatible with other requirements. This could take a while.\n",
            "Collecting scipy>=1.0 (from seaborn==0.11.0->-r /workspace/heritage-housing-mvp/requirements.txt (line 4))\n",
            "  Downloading scipy-1.10.0-cp38-cp38-manylinux_2_17_x86_64.manylinux2014_x86_64.whl.metadata (58 kB)\n",
            "\u001b[2K     \u001b[90m━━━━━━━━━━━━━━━━━━━━━━━━━━━━━━━━━━━━━━━━\u001b[0m \u001b[32m58.9/58.9 kB\u001b[0m \u001b[31m9.7 MB/s\u001b[0m eta \u001b[36m0:00:00\u001b[0m\n",
            "\u001b[?25h  Downloading scipy-1.9.3-cp38-cp38-manylinux_2_17_x86_64.manylinux2014_x86_64.whl.metadata (58 kB)\n",
            "\u001b[2K     \u001b[90m━━━━━━━━━━━━━━━━━━━━━━━━━━━━━━━━━━━━━━━━\u001b[0m \u001b[32m58.4/58.4 kB\u001b[0m \u001b[31m10.2 MB/s\u001b[0m eta \u001b[36m0:00:00\u001b[0m\n",
            "\u001b[?25hCollecting patsy>=0.5.4 (from statsmodels<1,>=0.13.2->ydata-profiling==4.4.0->-r /workspace/heritage-housing-mvp/requirements.txt (line 5))\n",
            "  Downloading patsy-0.5.6-py2.py3-none-any.whl.metadata (3.5 kB)\n",
            "Collecting gitdb<5,>=4.0.1 (from gitpython->streamlit==0.85.0->-r /workspace/heritage-housing-mvp/requirements.txt (line 9))\n",
            "  Downloading gitdb-4.0.11-py3-none-any.whl.metadata (1.2 kB)\n",
            "Collecting backports.zoneinfo (from tzlocal->streamlit==0.85.0->-r /workspace/heritage-housing-mvp/requirements.txt (line 9))\n",
            "  Downloading backports.zoneinfo-0.2.1-cp38-cp38-manylinux1_x86_64.whl.metadata (4.7 kB)\n",
            "Collecting smmap<6,>=3.0.1 (from gitdb<5,>=4.0.1->gitpython->streamlit==0.85.0->-r /workspace/heritage-housing-mvp/requirements.txt (line 9))\n",
            "  Downloading smmap-5.0.1-py3-none-any.whl.metadata (4.3 kB)\n",
            "Requirement already satisfied: zipp>=3.1.0 in /home/gitpod/.pyenv/versions/3.8.18/lib/python3.8/site-packages (from importlib-resources>=1.4.0->jsonschema>=3.0->altair<5->-r /workspace/heritage-housing-mvp/requirements.txt (line 20)) (3.19.2)\n",
            "Requirement already satisfied: parso<0.9.0,>=0.8.3 in /home/gitpod/.pyenv/versions/3.8.18/lib/python3.8/site-packages (from jedi>=0.16->ipython>=6.1.0->ipywidgets==8.0.2->-r /workspace/heritage-housing-mvp/requirements.txt (line 19)) (0.8.4)\n",
            "Requirement already satisfied: importlib-metadata>=4.8.3 in /home/gitpod/.pyenv/versions/3.8.18/lib/python3.8/site-packages (from jupyter-client>=6.1.12->ipykernel>=4.5.1->ipywidgets==8.0.2->-r /workspace/heritage-housing-mvp/requirements.txt (line 19)) (7.1.0)\n",
            "Requirement already satisfied: platformdirs>=2.5 in /home/gitpod/.pyenv/versions/3.8.18/lib/python3.8/site-packages (from jupyter-core!=5.0.*,>=4.12->ipykernel>=4.5.1->ipywidgets==8.0.2->-r /workspace/heritage-housing-mvp/requirements.txt (line 19)) (4.2.2)\n",
            "Requirement already satisfied: ptyprocess>=0.5 in /home/gitpod/.pyenv/versions/3.8.18/lib/python3.8/site-packages (from pexpect>4.3->ipython>=6.1.0->ipywidgets==8.0.2->-r /workspace/heritage-housing-mvp/requirements.txt (line 19)) (0.7.0)\n",
            "Requirement already satisfied: wcwidth in /home/gitpod/.pyenv/versions/3.8.18/lib/python3.8/site-packages (from prompt-toolkit!=3.0.37,<3.1.0,>=3.0.30->ipython>=6.1.0->ipywidgets==8.0.2->-r /workspace/heritage-housing-mvp/requirements.txt (line 19)) (0.2.13)\n",
            "Requirement already satisfied: executing>=1.2.0 in /home/gitpod/.pyenv/versions/3.8.18/lib/python3.8/site-packages (from stack-data->ipython>=6.1.0->ipywidgets==8.0.2->-r /workspace/heritage-housing-mvp/requirements.txt (line 19)) (2.0.1)\n",
            "Requirement already satisfied: asttokens>=2.1.0 in /home/gitpod/.pyenv/versions/3.8.18/lib/python3.8/site-packages (from stack-data->ipython>=6.1.0->ipywidgets==8.0.2->-r /workspace/heritage-housing-mvp/requirements.txt (line 19)) (2.4.1)\n",
            "Requirement already satisfied: pure-eval in /home/gitpod/.pyenv/versions/3.8.18/lib/python3.8/site-packages (from stack-data->ipython>=6.1.0->ipywidgets==8.0.2->-r /workspace/heritage-housing-mvp/requirements.txt (line 19)) (0.2.2)\n",
            "Downloading numpy-1.18.5-cp38-cp38-manylinux1_x86_64.whl (20.6 MB)\n",
            "\u001b[2K   \u001b[90m━━━━━━━━━━━━━━━━━━━━━━━━━━━━━━━━━━━━━━━━\u001b[0m \u001b[32m20.6/20.6 MB\u001b[0m \u001b[31m80.2 MB/s\u001b[0m eta \u001b[36m0:00:00\u001b[0m:00:01\u001b[0m00:01\u001b[0m\n",
            "\u001b[?25hDownloading pandas-1.4.2-cp38-cp38-manylinux_2_17_x86_64.manylinux2014_x86_64.whl (11.7 MB)\n",
            "\u001b[2K   \u001b[90m━━━━━━━━━━━━━━━━━━━━━━━━━━━━━━━━━━━━━━━━\u001b[0m \u001b[32m11.7/11.7 MB\u001b[0m \u001b[31m174.9 MB/s\u001b[0m eta \u001b[36m0:00:00\u001b[0ma \u001b[36m0:00:01\u001b[0m\n",
            "\u001b[?25hDownloading matplotlib-3.3.1-cp38-cp38-manylinux1_x86_64.whl (11.6 MB)\n",
            "\u001b[2K   \u001b[90m━━━━━━━━━━━━━━━━━━━━━━━━━━━━━━━━━━━━━━━━\u001b[0m \u001b[32m11.6/11.6 MB\u001b[0m \u001b[31m117.8 MB/s\u001b[0m eta \u001b[36m0:00:00\u001b[0ma \u001b[36m0:00:01\u001b[0m\n",
            "\u001b[?25hDownloading seaborn-0.11.0-py3-none-any.whl (283 kB)\n",
            "\u001b[2K   \u001b[90m━━━━━━━━━━━━━━━━━━━━━━━━━━━━━━━━━━━━━━━━\u001b[0m \u001b[32m283.1/283.1 kB\u001b[0m \u001b[31m37.5 MB/s\u001b[0m eta \u001b[36m0:00:00\u001b[0m\n",
            "\u001b[?25hDownloading ydata_profiling-4.4.0-py2.py3-none-any.whl (356 kB)\n",
            "\u001b[2K   \u001b[90m━━━━━━━━━━━━━━━━━━━━━━━━━━━━━━━━━━━━━━━━\u001b[0m \u001b[32m356.3/356.3 kB\u001b[0m \u001b[31m49.7 MB/s\u001b[0m eta \u001b[36m0:00:00\u001b[0m\n",
            "\u001b[?25hDownloading plotly-4.12.0-py2.py3-none-any.whl (13.1 MB)\n",
            "\u001b[2K   \u001b[90m━━━━━━━━━━━━━━━━━━━━━━━━━━━━━━━━━━━━━━━━\u001b[0m \u001b[32m13.1/13.1 MB\u001b[0m \u001b[31m160.1 MB/s\u001b[0m eta \u001b[36m0:00:00\u001b[0m00:01\u001b[0m0:01\u001b[0m\n",
            "\u001b[?25hDownloading streamlit-0.85.0-py2.py3-none-any.whl (7.9 MB)\n",
            "\u001b[2K   \u001b[90m━━━━━━━━━━━━━━━━━━━━━━━━━━━━━━━━━━━━━━━━\u001b[0m \u001b[32m7.9/7.9 MB\u001b[0m \u001b[31m163.2 MB/s\u001b[0m eta \u001b[36m0:00:00\u001b[0m00:01\u001b[0m\n",
            "\u001b[?25hDownloading feature_engine-1.0.2-py2.py3-none-any.whl (152 kB)\n",
            "\u001b[2K   \u001b[90m━━━━━━━━━━━━━━━━━━━━━━━━━━━━━━━━━━━━━━━━\u001b[0m \u001b[32m152.5/152.5 kB\u001b[0m \u001b[31m26.2 MB/s\u001b[0m eta \u001b[36m0:00:00\u001b[0m\n",
            "\u001b[?25hDownloading imbalanced_learn-0.8.0-py3-none-any.whl (206 kB)\n",
            "\u001b[2K   \u001b[90m━━━━━━━━━━━━━━━━━━━━━━━━━━━━━━━━━━━━━━━━\u001b[0m \u001b[32m206.5/206.5 kB\u001b[0m \u001b[31m33.8 MB/s\u001b[0m eta \u001b[36m0:00:00\u001b[0m\n",
            "\u001b[?25hDownloading scikit_learn-0.24.2-cp38-cp38-manylinux2010_x86_64.whl (24.9 MB)\n",
            "\u001b[2K   \u001b[90m━━━━━━━━━━━━━━━━━━━━━━━━━━━━━━━━━━━━━━━━\u001b[0m \u001b[32m24.9/24.9 MB\u001b[0m \u001b[31m115.6 MB/s\u001b[0m eta \u001b[36m0:00:00\u001b[0m00:01\u001b[0m00:01\u001b[0m\n",
            "\u001b[?25hDownloading xgboost-1.2.1-py3-none-manylinux2010_x86_64.whl (148.9 MB)\n",
            "\u001b[2K   \u001b[90m━━━━━━━━━━━━━━━━━━━━━━━━━━━━━━━━━━━━━━━━\u001b[0m \u001b[32m148.9/148.9 MB\u001b[0m \u001b[31m26.3 MB/s\u001b[0m eta \u001b[36m0:00:00\u001b[0m00:01\u001b[0m00:01\u001b[0m\n",
            "\u001b[?25hDownloading yellowbrick-1.3-py3-none-any.whl (271 kB)\n",
            "\u001b[2K   \u001b[90m━━━━━━━━━━━━━━━━━━━━━━━━━━━━━━━━━━━━━━━━\u001b[0m \u001b[32m271.3/271.3 kB\u001b[0m \u001b[31m43.0 MB/s\u001b[0m eta \u001b[36m0:00:00\u001b[0m\n",
            "\u001b[?25hDownloading Jinja2-3.1.1-py3-none-any.whl (132 kB)\n",
            "\u001b[2K   \u001b[90m━━━━━━━━━━━━━━━━━━━━━━━━━━━━━━━━━━━━━━━━\u001b[0m \u001b[32m132.6/132.6 kB\u001b[0m \u001b[31m24.9 MB/s\u001b[0m eta \u001b[36m0:00:00\u001b[0m\n",
            "\u001b[?25hDownloading MarkupSafe-2.0.1-cp38-cp38-manylinux_2_5_x86_64.manylinux1_x86_64.manylinux_2_12_x86_64.manylinux2010_x86_64.whl (30 kB)\n",
            "Downloading protobuf-3.20.0-cp38-cp38-manylinux_2_5_x86_64.manylinux1_x86_64.whl (1.0 MB)\n",
            "\u001b[2K   \u001b[90m━━━━━━━━━━━━━━━━━━━━━━━━━━━━━━━━━━━━━━━━\u001b[0m \u001b[32m1.0/1.0 MB\u001b[0m \u001b[31m84.8 MB/s\u001b[0m eta \u001b[36m0:00:00\u001b[0m\n",
            "\u001b[?25hDownloading ipywidgets-8.0.2-py3-none-any.whl (134 kB)\n",
            "\u001b[2K   \u001b[90m━━━━━━━━━━━━━━━━━━━━━━━━━━━━━━━━━━━━━━━━\u001b[0m \u001b[32m134.4/134.4 kB\u001b[0m \u001b[31m26.6 MB/s\u001b[0m eta \u001b[36m0:00:00\u001b[0m\n",
            "\u001b[?25hDownloading ImageHash-4.3.1-py2.py3-none-any.whl (296 kB)\n",
            "\u001b[2K   \u001b[90m━━━━━━━━━━━━━━━━━━━━━━━━━━━━━━━━━━━━━━━━\u001b[0m \u001b[32m296.5/296.5 kB\u001b[0m \u001b[31m50.7 MB/s\u001b[0m eta \u001b[36m0:00:00\u001b[0m\n",
            "\u001b[?25hDownloading visions-0.7.5-py3-none-any.whl (102 kB)\n",
            "\u001b[2K   \u001b[90m━━━━━━━━━━━━━━━━━━━━━━━━━━━━━━━━━━━━━━━━\u001b[0m \u001b[32m102.7/102.7 kB\u001b[0m \u001b[31m20.2 MB/s\u001b[0m eta \u001b[36m0:00:00\u001b[0m\n",
            "\u001b[?25hDownloading altair-4.2.2-py3-none-any.whl (813 kB)\n",
            "\u001b[2K   \u001b[90m━━━━━━━━━━━━━━━━━━━━━━━━━━━━━━━━━━━━━━━━\u001b[0m \u001b[32m813.6/813.6 kB\u001b[0m \u001b[31m93.1 MB/s\u001b[0m eta \u001b[36m0:00:00\u001b[0m\n",
            "\u001b[?25hDownloading cachetools-5.3.3-py3-none-any.whl (9.3 kB)\n",
            "Downloading click-7.1.2-py2.py3-none-any.whl (82 kB)\n",
            "\u001b[2K   \u001b[90m━━━━━━━━━━━━━━━━━━━━━━━━━━━━━━━━━━━━━━━━\u001b[0m \u001b[32m82.8/82.8 kB\u001b[0m \u001b[31m15.5 MB/s\u001b[0m eta \u001b[36m0:00:00\u001b[0m\n",
            "\u001b[?25hDownloading cycler-0.12.1-py3-none-any.whl (8.3 kB)\n",
            "Downloading dacite-1.8.1-py3-none-any.whl (14 kB)\n",
            "Downloading joblib-1.4.2-py3-none-any.whl (301 kB)\n",
            "\u001b[2K   \u001b[90m━━━━━━━━━━━━━━━━━━━━━━━━━━━━━━━━━━━━━━━━\u001b[0m \u001b[32m301.8/301.8 kB\u001b[0m \u001b[31m43.7 MB/s\u001b[0m eta \u001b[36m0:00:00\u001b[0m\n",
            "\u001b[?25hDownloading jupyterlab_widgets-3.0.11-py3-none-any.whl (214 kB)\n",
            "\u001b[2K   \u001b[90m━━━━━━━━━━━━━━━━━━━━━━━━━━━━━━━━━━━━━━━━\u001b[0m \u001b[32m214.4/214.4 kB\u001b[0m \u001b[31m26.7 MB/s\u001b[0m eta \u001b[36m0:00:00\u001b[0m\n",
            "\u001b[?25hDownloading kiwisolver-1.4.5-cp38-cp38-manylinux_2_5_x86_64.manylinux1_x86_64.whl (1.2 MB)\n",
            "\u001b[2K   \u001b[90m━━━━━━━━━━━━━━━━━━━━━━━━━━━━━━━━━━━━━━━━\u001b[0m \u001b[32m1.2/1.2 MB\u001b[0m \u001b[31m100.1 MB/s\u001b[0m eta \u001b[36m0:00:00\u001b[0m\n",
            "\u001b[?25hDownloading multimethod-1.10-py3-none-any.whl (9.9 kB)\n",
            "Downloading phik-0.12.4-cp38-cp38-manylinux_2_17_x86_64.manylinux2014_x86_64.whl (686 kB)\n",
            "\u001b[2K   \u001b[90m━━━━━━━━━━━━━━━━━━━━━━━━━━━━━━━━━━━━━━━━\u001b[0m \u001b[32m686.1/686.1 kB\u001b[0m \u001b[31m60.0 MB/s\u001b[0m eta \u001b[36m0:00:00\u001b[0m\n",
            "\u001b[?25hDownloading pillow-10.3.0-cp38-cp38-manylinux_2_28_x86_64.whl (4.5 MB)\n",
            "\u001b[2K   \u001b[90m━━━━━━━━━━━━━━━━━━━━━━━━━━━━━━━━━━━━━━━━\u001b[0m \u001b[32m4.5/4.5 MB\u001b[0m \u001b[31m162.7 MB/s\u001b[0m eta \u001b[36m0:00:00\u001b[0m\n",
            "\u001b[?25hDownloading pydantic-1.10.17-cp38-cp38-manylinux_2_17_x86_64.manylinux2014_x86_64.whl (3.2 MB)\n",
            "\u001b[2K   \u001b[90m━━━━━━━━━━━━━━━━━━━━━━━━━━━━━━━━━━━━━━━━\u001b[0m \u001b[32m3.2/3.2 MB\u001b[0m \u001b[31m146.2 MB/s\u001b[0m eta \u001b[36m0:00:00\u001b[0m\n",
            "\u001b[?25hDownloading pydeck-0.9.1-py2.py3-none-any.whl (6.9 MB)\n",
            "\u001b[2K   \u001b[90m━━━━━━━━━━━━━━━━━━━━━━━━━━━━━━━━━━━━━━━━\u001b[0m \u001b[32m6.9/6.9 MB\u001b[0m \u001b[31m176.5 MB/s\u001b[0m eta \u001b[36m0:00:00\u001b[0m00:01\u001b[0m\n",
            "\u001b[?25hDownloading pyparsing-3.1.2-py3-none-any.whl (103 kB)\n",
            "\u001b[2K   \u001b[90m━━━━━━━━━━━━━━━━━━━━━━━━━━━━━━━━━━━━━━━━\u001b[0m \u001b[32m103.2/103.2 kB\u001b[0m \u001b[31m21.2 MB/s\u001b[0m eta \u001b[36m0:00:00\u001b[0m\n",
            "\u001b[?25hDownloading retrying-1.3.4-py3-none-any.whl (11 kB)\n",
            "Downloading scipy-1.9.3-cp38-cp38-manylinux_2_17_x86_64.manylinux2014_x86_64.whl (33.8 MB)\n",
            "\u001b[2K   \u001b[90m━━━━━━━━━━━━━━━━━━━━━━━━━━━━━━━━━━━━━━━━\u001b[0m \u001b[32m33.8/33.8 MB\u001b[0m \u001b[31m140.5 MB/s\u001b[0m eta \u001b[36m0:00:00\u001b[0m00:01\u001b[0m00:01\u001b[0m\n",
            "\u001b[?25hDownloading statsmodels-0.14.1-cp38-cp38-manylinux_2_17_x86_64.manylinux2014_x86_64.whl (10.9 MB)\n",
            "\u001b[2K   \u001b[90m━━━━━━━━━━━━━━━━━━━━━━━━━━━━━━━━━━━━━━━━\u001b[0m \u001b[32m10.9/10.9 MB\u001b[0m \u001b[31m198.9 MB/s\u001b[0m eta \u001b[36m0:00:00\u001b[0ma \u001b[36m0:00:01\u001b[0m\n",
            "\u001b[?25hDownloading threadpoolctl-3.5.0-py3-none-any.whl (18 kB)\n",
            "Downloading tqdm-4.66.4-py3-none-any.whl (78 kB)\n",
            "\u001b[2K   \u001b[90m━━━━━━━━━━━━━━━━━━━━━━━━━━━━━━━━━━━━━━━━\u001b[0m \u001b[32m78.3/78.3 kB\u001b[0m \u001b[31m14.7 MB/s\u001b[0m eta \u001b[36m0:00:00\u001b[0m\n",
            "\u001b[?25hDownloading typeguard-2.13.3-py3-none-any.whl (17 kB)\n",
            "Downloading widgetsnbextension-4.0.11-py3-none-any.whl (2.3 MB)\n",
            "\u001b[2K   \u001b[90m━━━━━━━━━━━━━━━━━━━━━━━━━━━━━━━━━━━━━━━━\u001b[0m \u001b[32m2.3/2.3 MB\u001b[0m \u001b[31m142.8 MB/s\u001b[0m eta \u001b[36m0:00:00\u001b[0m\n",
            "\u001b[?25hDownloading wordcloud-1.9.3-cp38-cp38-manylinux_2_17_x86_64.manylinux2014_x86_64.whl (520 kB)\n",
            "\u001b[2K   \u001b[90m━━━━━━━━━━━━━━━━━━━━━━━━━━━━━━━━━━━━━━━━\u001b[0m \u001b[32m520.1/520.1 kB\u001b[0m \u001b[31m64.4 MB/s\u001b[0m eta \u001b[36m0:00:00\u001b[0m\n",
            "\u001b[?25hDownloading astor-0.8.1-py2.py3-none-any.whl (27 kB)\n",
            "Downloading base58-2.1.1-py3-none-any.whl (5.6 kB)\n",
            "Downloading blinker-1.8.2-py3-none-any.whl (9.5 kB)\n",
            "Downloading entrypoints-0.4-py3-none-any.whl (5.3 kB)\n",
            "Downloading GitPython-3.1.43-py3-none-any.whl (207 kB)\n",
            "\u001b[2K   \u001b[90m━━━━━━━━━━━━━━━━━━━━━━━━━━━━━━━━━━━━━━━━\u001b[0m \u001b[32m207.3/207.3 kB\u001b[0m \u001b[31m34.1 MB/s\u001b[0m eta \u001b[36m0:00:00\u001b[0m\n",
            "\u001b[?25hDownloading pyarrow-16.1.0-cp38-cp38-manylinux_2_28_x86_64.whl (40.9 MB)\n",
            "\u001b[2K   \u001b[90m━━━━━━━━━━━━━━━━━━━━━━━━━━━━━━━━━━━━━━━━\u001b[0m \u001b[32m40.9/40.9 MB\u001b[0m \u001b[31m131.7 MB/s\u001b[0m eta \u001b[36m0:00:00\u001b[0m00:01\u001b[0m00:01\u001b[0m\n",
            "\u001b[?25hDownloading toml-0.10.2-py2.py3-none-any.whl (16 kB)\n",
            "Downloading toolz-0.12.1-py3-none-any.whl (56 kB)\n",
            "\u001b[2K   \u001b[90m━━━━━━━━━━━━━━━━━━━━━━━━━━━━━━━━━━━━━━━━\u001b[0m \u001b[32m56.1/56.1 kB\u001b[0m \u001b[31m10.5 MB/s\u001b[0m eta \u001b[36m0:00:00\u001b[0m\n",
            "\u001b[?25hDownloading tzlocal-5.2-py3-none-any.whl (17 kB)\n",
            "Downloading validators-0.28.3-py3-none-any.whl (40 kB)\n",
            "\u001b[2K   \u001b[90m━━━━━━━━━━━━━━━━━━━━━━━━━━━━━━━━━━━━━━━━\u001b[0m \u001b[32m40.0/40.0 kB\u001b[0m \u001b[31m7.0 MB/s\u001b[0m eta \u001b[36m0:00:00\u001b[0m\n",
            "\u001b[?25hDownloading watchdog-4.0.1-py3-none-manylinux2014_x86_64.whl (83 kB)\n",
            "\u001b[2K   \u001b[90m━━━━━━━━━━━━━━━━━━━━━━━━━━━━━━━━━━━━━━━━\u001b[0m \u001b[32m83.0/83.0 kB\u001b[0m \u001b[31m15.2 MB/s\u001b[0m eta \u001b[36m0:00:00\u001b[0m\n",
            "\u001b[?25hDownloading gitdb-4.0.11-py3-none-any.whl (62 kB)\n",
            "\u001b[2K   \u001b[90m━━━━━━━━━━━━━━━━━━━━━━━━━━━━━━━━━━━━━━━━\u001b[0m \u001b[32m62.7/62.7 kB\u001b[0m \u001b[31m10.3 MB/s\u001b[0m eta \u001b[36m0:00:00\u001b[0m\n",
            "\u001b[?25hDownloading networkx-3.1-py3-none-any.whl (2.1 MB)\n",
            "\u001b[2K   \u001b[90m━━━━━━━━━━━━━━━━━━━━━━━━━━━━━━━━━━━━━━━━\u001b[0m \u001b[32m2.1/2.1 MB\u001b[0m \u001b[31m131.5 MB/s\u001b[0m eta \u001b[36m0:00:00\u001b[0m\n",
            "\u001b[?25hDownloading patsy-0.5.6-py2.py3-none-any.whl (233 kB)\n",
            "\u001b[2K   \u001b[90m━━━━━━━━━━━━━━━━━━━━━━━━━━━━━━━━━━━━━━━━\u001b[0m \u001b[32m233.9/233.9 kB\u001b[0m \u001b[31m35.5 MB/s\u001b[0m eta \u001b[36m0:00:00\u001b[0m\n",
            "\u001b[?25hDownloading tangled_up_in_unicode-0.2.0-py3-none-any.whl (4.7 MB)\n",
            "\u001b[2K   \u001b[90m━━━━━━━━━━━━━━━━━━━━━━━━━━━━━━━━━━━━━━━━\u001b[0m \u001b[32m4.7/4.7 MB\u001b[0m \u001b[31m163.9 MB/s\u001b[0m eta \u001b[36m0:00:00\u001b[0m\n",
            "\u001b[?25hDownloading backports.zoneinfo-0.2.1-cp38-cp38-manylinux1_x86_64.whl (74 kB)\n",
            "\u001b[2K   \u001b[90m━━━━━━━━━━━━━━━━━━━━━━━━━━━━━━━━━━━━━━━━\u001b[0m \u001b[32m74.0/74.0 kB\u001b[0m \u001b[31m13.7 MB/s\u001b[0m eta \u001b[36m0:00:00\u001b[0m\n",
            "\u001b[?25hDownloading PyWavelets-1.4.1-cp38-cp38-manylinux_2_17_x86_64.manylinux2014_x86_64.whl (6.9 MB)\n",
            "\u001b[2K   \u001b[90m━━━━━━━━━━━━━━━━━━━━━━━━━━━━━━━━━━━━━━━━\u001b[0m \u001b[32m6.9/6.9 MB\u001b[0m \u001b[31m186.9 MB/s\u001b[0m eta \u001b[36m0:00:00\u001b[0m00:01\u001b[0m\n",
            "\u001b[?25hDownloading smmap-5.0.1-py3-none-any.whl (24 kB)\n",
            "Building wheels for collected packages: ppscore, htmlmin\n",
            "  Building wheel for ppscore (setup.py) ... \u001b[?25ldone\n",
            "\u001b[?25h  Created wheel for ppscore: filename=ppscore-1.2.0-py2.py3-none-any.whl size=13066 sha256=296bec41c893035dab9fa5133ae2d998b8dbfb765a1f760a942b2120ad89669f\n",
            "  Stored in directory: /home/gitpod/.cache/pip/wheels/fb/0e/65/da65ce669381fc01b6ef990d301d3586991f89bff1175877a4\n",
            "  Building wheel for htmlmin (setup.py) ... \u001b[?25ldone\n",
            "\u001b[?25h  Created wheel for htmlmin: filename=htmlmin-0.1.12-py3-none-any.whl size=27080 sha256=33cadc33aa32d673b0aa659beb460b5d461b48678aae7ef2698289d5a8b00c7d\n",
            "  Stored in directory: /home/gitpod/.cache/pip/wheels/23/14/6e/4be5bfeeb027f4939a01764b48edd5996acf574b0913fe5243\n",
            "Successfully built ppscore htmlmin\n",
            "Installing collected packages: htmlmin, widgetsnbextension, watchdog, validators, typeguard, tqdm, toolz, toml, threadpoolctl, tangled-up-in-unicode, smmap, retrying, pyparsing, pydantic, protobuf, pillow, numpy, networkx, multimethod, MarkupSafe, kiwisolver, jupyterlab-widgets, joblib, entrypoints, dacite, cycler, click, cachetools, blinker, base58, backports.zoneinfo, astor, tzlocal, scipy, PyWavelets, pyarrow, plotly, patsy, pandas, matplotlib, Jinja2, gitdb, xgboost, wordcloud, visions, statsmodels, seaborn, scikit-learn, pydeck, phik, imagehash, gitpython, yellowbrick, ppscore, imbalanced-learn, feature-engine, altair, ydata-profiling, streamlit, ipywidgets\n",
            "Successfully installed Jinja2-3.1.1 MarkupSafe-2.0.1 PyWavelets-1.4.1 altair-4.2.2 astor-0.8.1 backports.zoneinfo-0.2.1 base58-2.1.1 blinker-1.8.2 cachetools-5.3.3 click-7.1.2 cycler-0.12.1 dacite-1.8.1 entrypoints-0.4 feature-engine-1.0.2 gitdb-4.0.11 gitpython-3.1.43 htmlmin-0.1.12 imagehash-4.3.1 imbalanced-learn-0.8.0 ipywidgets-8.0.2 joblib-1.4.2 jupyterlab-widgets-3.0.11 kiwisolver-1.4.5 matplotlib-3.3.1 multimethod-1.10 networkx-3.1 numpy-1.18.5 pandas-1.4.2 patsy-0.5.6 phik-0.12.4 pillow-10.3.0 plotly-4.12.0 ppscore-1.2.0 protobuf-3.20.0 pyarrow-16.1.0 pydantic-1.10.17 pydeck-0.9.1 pyparsing-3.1.2 retrying-1.3.4 scikit-learn-0.24.2 scipy-1.9.3 seaborn-0.11.0 smmap-5.0.1 statsmodels-0.14.1 streamlit-0.85.0 tangled-up-in-unicode-0.2.0 threadpoolctl-3.5.0 toml-0.10.2 toolz-0.12.1 tqdm-4.66.4 typeguard-2.13.3 tzlocal-5.2 validators-0.28.3 visions-0.7.5 watchdog-4.0.1 widgetsnbextension-4.0.11 wordcloud-1.9.3 xgboost-1.2.1 ydata-profiling-4.4.0 yellowbrick-1.3\n",
            "\n",
            "\u001b[1m[\u001b[0m\u001b[34;49mnotice\u001b[0m\u001b[1;39;49m]\u001b[0m\u001b[39;49m A new release of pip is available: \u001b[0m\u001b[31;49m24.0\u001b[0m\u001b[39;49m -> \u001b[0m\u001b[32;49m24.1\u001b[0m\n",
            "\u001b[1m[\u001b[0m\u001b[34;49mnotice\u001b[0m\u001b[1;39;49m]\u001b[0m\u001b[39;49m To update, run: \u001b[0m\u001b[32;49mpip install --upgrade pip\u001b[0m\n",
            "Note: you may need to restart the kernel to use updated packages.\n"
          ]
        }
      ],
      "source": [
        "%pip install -r /workspace/heritage-housing-mvp/requirements.txt"
      ]
    },
    {
      "cell_type": "markdown",
      "metadata": {
        "id": "cqP-UeN-z3i2"
      },
      "source": [
        "# Change working directory"
      ]
    },
    {
      "cell_type": "markdown",
      "metadata": {},
      "source": [
        "* We are assuming you will store the notebooks in a subfolder, therefore when running the notebook in the editor, you will need to change the working directory"
      ]
    },
    {
      "cell_type": "markdown",
      "metadata": {
        "id": "aOGIGS-uz3i2"
      },
      "source": [
        "We need to change the working directory from its current folder to its parent folder\n",
        "* We access the current directory with os.getcwd()"
      ]
    },
    {
      "cell_type": "code",
      "execution_count": 3,
      "metadata": {
        "id": "wZfF_j-Bz3i4",
        "outputId": "66943449-1436-4c3d-85c7-b85f9f78349b"
      },
      "outputs": [
        {
          "data": {
            "text/plain": [
              "'/workspace/heritage-housing-mvp/jupyter_notebooks'"
            ]
          },
          "execution_count": 3,
          "metadata": {},
          "output_type": "execute_result"
        }
      ],
      "source": [
        "import os\n",
        "current_dir = os.getcwd()\n",
        "current_dir"
      ]
    },
    {
      "cell_type": "markdown",
      "metadata": {
        "id": "9MWW8E7lz3i7"
      },
      "source": [
        "We want to make the parent of the current directory the new current directory\n",
        "* os.path.dirname() gets the parent directory\n",
        "* os.chir() defines the new current directory"
      ]
    },
    {
      "cell_type": "code",
      "execution_count": 4,
      "metadata": {
        "id": "TwHsQRWjz3i9",
        "outputId": "86849db3-cd2f-4cc5-ebb8-2d0caafa1a2c"
      },
      "outputs": [
        {
          "name": "stdout",
          "output_type": "stream",
          "text": [
            "You set a new current directory\n"
          ]
        }
      ],
      "source": [
        "os.chdir(os.path.dirname(current_dir))\n",
        "print(\"You set a new current directory\")"
      ]
    },
    {
      "cell_type": "markdown",
      "metadata": {
        "id": "M_xPk_Ijz3i-"
      },
      "source": [
        "Confirm the new current directory"
      ]
    },
    {
      "cell_type": "code",
      "execution_count": 5,
      "metadata": {
        "id": "vz3S-_kjz3jA",
        "outputId": "00b79ae4-75d0-4a96-d193-ac9ef9847ea2"
      },
      "outputs": [
        {
          "data": {
            "text/plain": [
              "'/workspace/heritage-housing-mvp'"
            ]
          },
          "execution_count": 5,
          "metadata": {},
          "output_type": "execute_result"
        }
      ],
      "source": [
        "current_dir = os.getcwd()\n",
        "current_dir"
      ]
    },
    {
      "cell_type": "markdown",
      "metadata": {},
      "source": [
        "---"
      ]
    },
    {
      "cell_type": "markdown",
      "metadata": {
        "id": "-mavJ8DibrcQ"
      },
      "source": [
        "# Fetch data from Kaggle"
      ]
    },
    {
      "cell_type": "markdown",
      "metadata": {},
      "source": [
        "Install Kaggle package to fetch data"
      ]
    },
    {
      "cell_type": "code",
      "execution_count": 2,
      "metadata": {},
      "outputs": [
        {
          "name": "stdout",
          "output_type": "stream",
          "text": [
            "Collecting kaggle==1.5.12\n",
            "  Downloading kaggle-1.5.12.tar.gz (58 kB)\n",
            "\u001b[2K     \u001b[90m━━━━━━━━━━━━━━━━━━━━━━━━━━━━━━━━━━━━━━━━\u001b[0m \u001b[32m59.0/59.0 kB\u001b[0m \u001b[31m3.4 MB/s\u001b[0m eta \u001b[36m0:00:00\u001b[0m\n",
            "\u001b[?25h  Preparing metadata (setup.py) ... \u001b[?25ldone\n",
            "\u001b[?25hRequirement already satisfied: six>=1.10 in /home/gitpod/.pyenv/versions/3.8.18/lib/python3.8/site-packages (from kaggle==1.5.12) (1.16.0)\n",
            "Requirement already satisfied: certifi in /home/gitpod/.pyenv/versions/3.8.18/lib/python3.8/site-packages (from kaggle==1.5.12) (2024.6.2)\n",
            "Requirement already satisfied: python-dateutil in /home/gitpod/.pyenv/versions/3.8.18/lib/python3.8/site-packages (from kaggle==1.5.12) (2.9.0.post0)\n",
            "Requirement already satisfied: requests in /home/gitpod/.pyenv/versions/3.8.18/lib/python3.8/site-packages (from kaggle==1.5.12) (2.32.3)\n",
            "Requirement already satisfied: tqdm in /workspace/.pip-modules/lib/python3.8/site-packages (from kaggle==1.5.12) (4.66.4)\n",
            "Collecting python-slugify (from kaggle==1.5.12)\n",
            "  Downloading python_slugify-8.0.4-py2.py3-none-any.whl.metadata (8.5 kB)\n",
            "Requirement already satisfied: urllib3 in /home/gitpod/.pyenv/versions/3.8.18/lib/python3.8/site-packages (from kaggle==1.5.12) (2.2.1)\n",
            "Collecting text-unidecode>=1.3 (from python-slugify->kaggle==1.5.12)\n",
            "  Downloading text_unidecode-1.3-py2.py3-none-any.whl.metadata (2.4 kB)\n",
            "Requirement already satisfied: charset-normalizer<4,>=2 in /home/gitpod/.pyenv/versions/3.8.18/lib/python3.8/site-packages (from requests->kaggle==1.5.12) (3.3.2)\n",
            "Requirement already satisfied: idna<4,>=2.5 in /home/gitpod/.pyenv/versions/3.8.18/lib/python3.8/site-packages (from requests->kaggle==1.5.12) (3.7)\n",
            "Downloading python_slugify-8.0.4-py2.py3-none-any.whl (10 kB)\n",
            "Downloading text_unidecode-1.3-py2.py3-none-any.whl (78 kB)\n",
            "\u001b[2K   \u001b[90m━━━━━━━━━━━━━━━━━━━━━━━━━━━━━━━━━━━━━━━━\u001b[0m \u001b[32m78.2/78.2 kB\u001b[0m \u001b[31m13.7 MB/s\u001b[0m eta \u001b[36m0:00:00\u001b[0m\n",
            "\u001b[?25hBuilding wheels for collected packages: kaggle\n",
            "  Building wheel for kaggle (setup.py) ... \u001b[?25ldone\n",
            "\u001b[?25h  Created wheel for kaggle: filename=kaggle-1.5.12-py3-none-any.whl size=73027 sha256=d6c18b5f4f25b6299687b2c43f4ee9f6c5a8f02a4a4b07f5657880a0701bb523\n",
            "  Stored in directory: /home/gitpod/.cache/pip/wheels/29/da/11/144cc25aebdaeb4931b231e25fd34b394e6a5725cbb2f50106\n",
            "Successfully built kaggle\n",
            "Installing collected packages: text-unidecode, python-slugify, kaggle\n",
            "Successfully installed kaggle-1.5.12 python-slugify-8.0.4 text-unidecode-1.3\n",
            "\n",
            "\u001b[1m[\u001b[0m\u001b[34;49mnotice\u001b[0m\u001b[1;39;49m]\u001b[0m\u001b[39;49m A new release of pip is available: \u001b[0m\u001b[31;49m24.0\u001b[0m\u001b[39;49m -> \u001b[0m\u001b[32;49m24.1\u001b[0m\n",
            "\u001b[1m[\u001b[0m\u001b[34;49mnotice\u001b[0m\u001b[1;39;49m]\u001b[0m\u001b[39;49m To update, run: \u001b[0m\u001b[32;49mpip install --upgrade pip\u001b[0m\n",
            "Note: you may need to restart the kernel to use updated packages.\n"
          ]
        }
      ],
      "source": [
        "%pip install kaggle==1.5.12"
      ]
    },
    {
      "cell_type": "markdown",
      "metadata": {},
      "source": [
        "Download your kaggle.json file from your kaggle account. And place it in the main directory."
      ]
    },
    {
      "cell_type": "markdown",
      "metadata": {},
      "source": [
        "After that run the cell below, so the token is recognized in the session."
      ]
    },
    {
      "cell_type": "code",
      "execution_count": 7,
      "metadata": {},
      "outputs": [],
      "source": [
        "import os\n",
        "os.environ['KAGGLE_CONFIG_DIR'] = os.getcwd()\n",
        "! chmod 600 kaggle.json"
      ]
    },
    {
      "cell_type": "markdown",
      "metadata": {},
      "source": [
        "We are using the following Kaggle URL: https://www.kaggle.com/datasets/codeinstitute/housing-prices-data\n",
        "\n",
        "Get the dataset path frok Kaggle url\n",
        "\n",
        "* When you are viewing the dataset at Kaggle, check what is after https://kaggle.com/\n",
        "\n",
        "Define the Kaggle dataset, and destination folder and download it."
      ]
    },
    {
      "cell_type": "code",
      "execution_count": 8,
      "metadata": {},
      "outputs": [
        {
          "name": "stdout",
          "output_type": "stream",
          "text": [
            "Downloading housing-prices-data.zip to inputs/datasets/raw\n",
            "  0%|                                               | 0.00/49.6k [00:00<?, ?B/s]\n",
            "100%|██████████████████████████████████████| 49.6k/49.6k [00:00<00:00, 2.05MB/s]\n"
          ]
        }
      ],
      "source": [
        "KaggleDatasetPath = \"codeinstitute/housing-prices-data\"\n",
        "DestinationFolder = \"inputs/datasets/raw\"\n",
        "\n",
        "! kaggle datasets download -d {KaggleDatasetPath} -p {DestinationFolder}"
      ]
    },
    {
      "cell_type": "markdown",
      "metadata": {},
      "source": [
        "Unzip the downloaded file, delete the zip file and delete the kaggle.json file."
      ]
    },
    {
      "cell_type": "code",
      "execution_count": 9,
      "metadata": {},
      "outputs": [
        {
          "name": "stdout",
          "output_type": "stream",
          "text": [
            "Archive:  inputs/datasets/raw/housing-prices-data.zip\n",
            "  inflating: inputs/datasets/raw/house-metadata.txt  \n",
            "  inflating: inputs/datasets/raw/house-price-20211124T154130Z-001/house-price/house_prices_records.csv  \n",
            "  inflating: inputs/datasets/raw/house-price-20211124T154130Z-001/house-price/inherited_houses.csv  \n"
          ]
        }
      ],
      "source": [
        "! unzip {DestinationFolder}/*.zip -d {DestinationFolder} \\\n",
        "    && rm {DestinationFolder}/*.zip \\\n",
        "    && rm kaggle.json"
      ]
    },
    {
      "cell_type": "markdown",
      "metadata": {
        "id": "ZY3l0-AxO93d"
      },
      "source": [
        "---"
      ]
    },
    {
      "cell_type": "markdown",
      "metadata": {
        "id": "uFQo3ycuO-v6"
      },
      "source": [
        "# Load and inspect the Kaggle data"
      ]
    },
    {
      "cell_type": "code",
      "execution_count": 11,
      "metadata": {},
      "outputs": [
        {
          "data": {
            "text/html": [
              "<div>\n",
              "<style scoped>\n",
              "    .dataframe tbody tr th:only-of-type {\n",
              "        vertical-align: middle;\n",
              "    }\n",
              "\n",
              "    .dataframe tbody tr th {\n",
              "        vertical-align: top;\n",
              "    }\n",
              "\n",
              "    .dataframe thead th {\n",
              "        text-align: right;\n",
              "    }\n",
              "</style>\n",
              "<table border=\"1\" class=\"dataframe\">\n",
              "  <thead>\n",
              "    <tr style=\"text-align: right;\">\n",
              "      <th></th>\n",
              "      <th>1stFlrSF</th>\n",
              "      <th>2ndFlrSF</th>\n",
              "      <th>BedroomAbvGr</th>\n",
              "      <th>BsmtExposure</th>\n",
              "      <th>BsmtFinSF1</th>\n",
              "      <th>BsmtFinType1</th>\n",
              "      <th>BsmtUnfSF</th>\n",
              "      <th>EnclosedPorch</th>\n",
              "      <th>GarageArea</th>\n",
              "      <th>GarageFinish</th>\n",
              "      <th>...</th>\n",
              "      <th>LotFrontage</th>\n",
              "      <th>MasVnrArea</th>\n",
              "      <th>OpenPorchSF</th>\n",
              "      <th>OverallCond</th>\n",
              "      <th>OverallQual</th>\n",
              "      <th>TotalBsmtSF</th>\n",
              "      <th>WoodDeckSF</th>\n",
              "      <th>YearBuilt</th>\n",
              "      <th>YearRemodAdd</th>\n",
              "      <th>SalePrice</th>\n",
              "    </tr>\n",
              "  </thead>\n",
              "  <tbody>\n",
              "    <tr>\n",
              "      <th>0</th>\n",
              "      <td>856</td>\n",
              "      <td>854.0</td>\n",
              "      <td>3.0</td>\n",
              "      <td>No</td>\n",
              "      <td>706</td>\n",
              "      <td>GLQ</td>\n",
              "      <td>150</td>\n",
              "      <td>0.0</td>\n",
              "      <td>548</td>\n",
              "      <td>RFn</td>\n",
              "      <td>...</td>\n",
              "      <td>65.0</td>\n",
              "      <td>196.0</td>\n",
              "      <td>61</td>\n",
              "      <td>5</td>\n",
              "      <td>7</td>\n",
              "      <td>856</td>\n",
              "      <td>0.0</td>\n",
              "      <td>2003</td>\n",
              "      <td>2003</td>\n",
              "      <td>208500</td>\n",
              "    </tr>\n",
              "    <tr>\n",
              "      <th>1</th>\n",
              "      <td>1262</td>\n",
              "      <td>0.0</td>\n",
              "      <td>3.0</td>\n",
              "      <td>Gd</td>\n",
              "      <td>978</td>\n",
              "      <td>ALQ</td>\n",
              "      <td>284</td>\n",
              "      <td>NaN</td>\n",
              "      <td>460</td>\n",
              "      <td>RFn</td>\n",
              "      <td>...</td>\n",
              "      <td>80.0</td>\n",
              "      <td>0.0</td>\n",
              "      <td>0</td>\n",
              "      <td>8</td>\n",
              "      <td>6</td>\n",
              "      <td>1262</td>\n",
              "      <td>NaN</td>\n",
              "      <td>1976</td>\n",
              "      <td>1976</td>\n",
              "      <td>181500</td>\n",
              "    </tr>\n",
              "    <tr>\n",
              "      <th>2</th>\n",
              "      <td>920</td>\n",
              "      <td>866.0</td>\n",
              "      <td>3.0</td>\n",
              "      <td>Mn</td>\n",
              "      <td>486</td>\n",
              "      <td>GLQ</td>\n",
              "      <td>434</td>\n",
              "      <td>0.0</td>\n",
              "      <td>608</td>\n",
              "      <td>RFn</td>\n",
              "      <td>...</td>\n",
              "      <td>68.0</td>\n",
              "      <td>162.0</td>\n",
              "      <td>42</td>\n",
              "      <td>5</td>\n",
              "      <td>7</td>\n",
              "      <td>920</td>\n",
              "      <td>NaN</td>\n",
              "      <td>2001</td>\n",
              "      <td>2002</td>\n",
              "      <td>223500</td>\n",
              "    </tr>\n",
              "    <tr>\n",
              "      <th>3</th>\n",
              "      <td>961</td>\n",
              "      <td>NaN</td>\n",
              "      <td>NaN</td>\n",
              "      <td>No</td>\n",
              "      <td>216</td>\n",
              "      <td>ALQ</td>\n",
              "      <td>540</td>\n",
              "      <td>NaN</td>\n",
              "      <td>642</td>\n",
              "      <td>Unf</td>\n",
              "      <td>...</td>\n",
              "      <td>60.0</td>\n",
              "      <td>0.0</td>\n",
              "      <td>35</td>\n",
              "      <td>5</td>\n",
              "      <td>7</td>\n",
              "      <td>756</td>\n",
              "      <td>NaN</td>\n",
              "      <td>1915</td>\n",
              "      <td>1970</td>\n",
              "      <td>140000</td>\n",
              "    </tr>\n",
              "    <tr>\n",
              "      <th>4</th>\n",
              "      <td>1145</td>\n",
              "      <td>NaN</td>\n",
              "      <td>4.0</td>\n",
              "      <td>Av</td>\n",
              "      <td>655</td>\n",
              "      <td>GLQ</td>\n",
              "      <td>490</td>\n",
              "      <td>0.0</td>\n",
              "      <td>836</td>\n",
              "      <td>RFn</td>\n",
              "      <td>...</td>\n",
              "      <td>84.0</td>\n",
              "      <td>350.0</td>\n",
              "      <td>84</td>\n",
              "      <td>5</td>\n",
              "      <td>8</td>\n",
              "      <td>1145</td>\n",
              "      <td>NaN</td>\n",
              "      <td>2000</td>\n",
              "      <td>2000</td>\n",
              "      <td>250000</td>\n",
              "    </tr>\n",
              "  </tbody>\n",
              "</table>\n",
              "<p>5 rows × 24 columns</p>\n",
              "</div>"
            ],
            "text/plain": [
              "   1stFlrSF  2ndFlrSF  BedroomAbvGr BsmtExposure  BsmtFinSF1 BsmtFinType1  \\\n",
              "0       856     854.0           3.0           No         706          GLQ   \n",
              "1      1262       0.0           3.0           Gd         978          ALQ   \n",
              "2       920     866.0           3.0           Mn         486          GLQ   \n",
              "3       961       NaN           NaN           No         216          ALQ   \n",
              "4      1145       NaN           4.0           Av         655          GLQ   \n",
              "\n",
              "   BsmtUnfSF  EnclosedPorch  GarageArea GarageFinish  ...  LotFrontage  \\\n",
              "0        150            0.0         548          RFn  ...         65.0   \n",
              "1        284            NaN         460          RFn  ...         80.0   \n",
              "2        434            0.0         608          RFn  ...         68.0   \n",
              "3        540            NaN         642          Unf  ...         60.0   \n",
              "4        490            0.0         836          RFn  ...         84.0   \n",
              "\n",
              "   MasVnrArea OpenPorchSF  OverallCond  OverallQual  TotalBsmtSF  WoodDeckSF  \\\n",
              "0       196.0          61            5            7          856         0.0   \n",
              "1         0.0           0            8            6         1262         NaN   \n",
              "2       162.0          42            5            7          920         NaN   \n",
              "3         0.0          35            5            7          756         NaN   \n",
              "4       350.0          84            5            8         1145         NaN   \n",
              "\n",
              "   YearBuilt  YearRemodAdd  SalePrice  \n",
              "0       2003          2003     208500  \n",
              "1       1976          1976     181500  \n",
              "2       2001          2002     223500  \n",
              "3       1915          1970     140000  \n",
              "4       2000          2000     250000  \n",
              "\n",
              "[5 rows x 24 columns]"
            ]
          },
          "execution_count": 11,
          "metadata": {},
          "output_type": "execute_result"
        }
      ],
      "source": [
        "import pandas as pd\n",
        "df1 = pd.read_csv(f\"/workspace/heritage-housing-mvp/inputs/datasets/raw/house-price-20211124T154130Z-001/house-price/house_prices_records.csv\")\n",
        "df1.head()"
      ]
    },
    {
      "cell_type": "code",
      "execution_count": 14,
      "metadata": {},
      "outputs": [
        {
          "data": {
            "text/html": [
              "<div>\n",
              "<style scoped>\n",
              "    .dataframe tbody tr th:only-of-type {\n",
              "        vertical-align: middle;\n",
              "    }\n",
              "\n",
              "    .dataframe tbody tr th {\n",
              "        vertical-align: top;\n",
              "    }\n",
              "\n",
              "    .dataframe thead th {\n",
              "        text-align: right;\n",
              "    }\n",
              "</style>\n",
              "<table border=\"1\" class=\"dataframe\">\n",
              "  <thead>\n",
              "    <tr style=\"text-align: right;\">\n",
              "      <th></th>\n",
              "      <th>1stFlrSF</th>\n",
              "      <th>2ndFlrSF</th>\n",
              "      <th>BedroomAbvGr</th>\n",
              "      <th>BsmtExposure</th>\n",
              "      <th>BsmtFinSF1</th>\n",
              "      <th>BsmtFinType1</th>\n",
              "      <th>BsmtUnfSF</th>\n",
              "      <th>EnclosedPorch</th>\n",
              "      <th>GarageArea</th>\n",
              "      <th>GarageFinish</th>\n",
              "      <th>...</th>\n",
              "      <th>LotArea</th>\n",
              "      <th>LotFrontage</th>\n",
              "      <th>MasVnrArea</th>\n",
              "      <th>OpenPorchSF</th>\n",
              "      <th>OverallCond</th>\n",
              "      <th>OverallQual</th>\n",
              "      <th>TotalBsmtSF</th>\n",
              "      <th>WoodDeckSF</th>\n",
              "      <th>YearBuilt</th>\n",
              "      <th>YearRemodAdd</th>\n",
              "    </tr>\n",
              "  </thead>\n",
              "  <tbody>\n",
              "    <tr>\n",
              "      <th>0</th>\n",
              "      <td>896</td>\n",
              "      <td>0</td>\n",
              "      <td>2</td>\n",
              "      <td>No</td>\n",
              "      <td>468.0</td>\n",
              "      <td>Rec</td>\n",
              "      <td>270.0</td>\n",
              "      <td>0</td>\n",
              "      <td>730.0</td>\n",
              "      <td>Unf</td>\n",
              "      <td>...</td>\n",
              "      <td>11622</td>\n",
              "      <td>80.0</td>\n",
              "      <td>0.0</td>\n",
              "      <td>0</td>\n",
              "      <td>6</td>\n",
              "      <td>5</td>\n",
              "      <td>882.0</td>\n",
              "      <td>140</td>\n",
              "      <td>1961</td>\n",
              "      <td>1961</td>\n",
              "    </tr>\n",
              "    <tr>\n",
              "      <th>1</th>\n",
              "      <td>1329</td>\n",
              "      <td>0</td>\n",
              "      <td>3</td>\n",
              "      <td>No</td>\n",
              "      <td>923.0</td>\n",
              "      <td>ALQ</td>\n",
              "      <td>406.0</td>\n",
              "      <td>0</td>\n",
              "      <td>312.0</td>\n",
              "      <td>Unf</td>\n",
              "      <td>...</td>\n",
              "      <td>14267</td>\n",
              "      <td>81.0</td>\n",
              "      <td>108.0</td>\n",
              "      <td>36</td>\n",
              "      <td>6</td>\n",
              "      <td>6</td>\n",
              "      <td>1329.0</td>\n",
              "      <td>393</td>\n",
              "      <td>1958</td>\n",
              "      <td>1958</td>\n",
              "    </tr>\n",
              "    <tr>\n",
              "      <th>2</th>\n",
              "      <td>928</td>\n",
              "      <td>701</td>\n",
              "      <td>3</td>\n",
              "      <td>No</td>\n",
              "      <td>791.0</td>\n",
              "      <td>GLQ</td>\n",
              "      <td>137.0</td>\n",
              "      <td>0</td>\n",
              "      <td>482.0</td>\n",
              "      <td>Fin</td>\n",
              "      <td>...</td>\n",
              "      <td>13830</td>\n",
              "      <td>74.0</td>\n",
              "      <td>0.0</td>\n",
              "      <td>34</td>\n",
              "      <td>5</td>\n",
              "      <td>5</td>\n",
              "      <td>928.0</td>\n",
              "      <td>212</td>\n",
              "      <td>1997</td>\n",
              "      <td>1998</td>\n",
              "    </tr>\n",
              "    <tr>\n",
              "      <th>3</th>\n",
              "      <td>926</td>\n",
              "      <td>678</td>\n",
              "      <td>3</td>\n",
              "      <td>No</td>\n",
              "      <td>602.0</td>\n",
              "      <td>GLQ</td>\n",
              "      <td>324.0</td>\n",
              "      <td>0</td>\n",
              "      <td>470.0</td>\n",
              "      <td>Fin</td>\n",
              "      <td>...</td>\n",
              "      <td>9978</td>\n",
              "      <td>78.0</td>\n",
              "      <td>20.0</td>\n",
              "      <td>36</td>\n",
              "      <td>6</td>\n",
              "      <td>6</td>\n",
              "      <td>926.0</td>\n",
              "      <td>360</td>\n",
              "      <td>1998</td>\n",
              "      <td>1998</td>\n",
              "    </tr>\n",
              "  </tbody>\n",
              "</table>\n",
              "<p>4 rows × 23 columns</p>\n",
              "</div>"
            ],
            "text/plain": [
              "   1stFlrSF  2ndFlrSF  BedroomAbvGr BsmtExposure  BsmtFinSF1 BsmtFinType1  \\\n",
              "0       896         0             2           No       468.0          Rec   \n",
              "1      1329         0             3           No       923.0          ALQ   \n",
              "2       928       701             3           No       791.0          GLQ   \n",
              "3       926       678             3           No       602.0          GLQ   \n",
              "\n",
              "   BsmtUnfSF  EnclosedPorch  GarageArea GarageFinish  ...  LotArea  \\\n",
              "0      270.0              0       730.0          Unf  ...    11622   \n",
              "1      406.0              0       312.0          Unf  ...    14267   \n",
              "2      137.0              0       482.0          Fin  ...    13830   \n",
              "3      324.0              0       470.0          Fin  ...     9978   \n",
              "\n",
              "   LotFrontage MasVnrArea  OpenPorchSF  OverallCond  OverallQual  TotalBsmtSF  \\\n",
              "0         80.0        0.0            0            6            5        882.0   \n",
              "1         81.0      108.0           36            6            6       1329.0   \n",
              "2         74.0        0.0           34            5            5        928.0   \n",
              "3         78.0       20.0           36            6            6        926.0   \n",
              "\n",
              "   WoodDeckSF  YearBuilt  YearRemodAdd  \n",
              "0         140       1961          1961  \n",
              "1         393       1958          1958  \n",
              "2         212       1997          1998  \n",
              "3         360       1998          1998  \n",
              "\n",
              "[4 rows x 23 columns]"
            ]
          },
          "execution_count": 14,
          "metadata": {},
          "output_type": "execute_result"
        }
      ],
      "source": [
        "import pandas as pd\n",
        "df2 = pd.read_csv(f\"/workspace/heritage-housing-mvp/inputs/datasets/raw/house-price-20211124T154130Z-001/house-price/inherited_houses.csv\")\n",
        "df2.head()"
      ]
    },
    {
      "cell_type": "markdown",
      "metadata": {},
      "source": [
        "Get a summary"
      ]
    },
    {
      "cell_type": "code",
      "execution_count": 15,
      "metadata": {},
      "outputs": [
        {
          "name": "stdout",
          "output_type": "stream",
          "text": [
            "<class 'pandas.core.frame.DataFrame'>\n",
            "RangeIndex: 1460 entries, 0 to 1459\n",
            "Data columns (total 24 columns):\n",
            " #   Column         Non-Null Count  Dtype  \n",
            "---  ------         --------------  -----  \n",
            " 0   1stFlrSF       1460 non-null   int64  \n",
            " 1   2ndFlrSF       1374 non-null   float64\n",
            " 2   BedroomAbvGr   1361 non-null   float64\n",
            " 3   BsmtExposure   1460 non-null   object \n",
            " 4   BsmtFinSF1     1460 non-null   int64  \n",
            " 5   BsmtFinType1   1346 non-null   object \n",
            " 6   BsmtUnfSF      1460 non-null   int64  \n",
            " 7   EnclosedPorch  136 non-null    float64\n",
            " 8   GarageArea     1460 non-null   int64  \n",
            " 9   GarageFinish   1298 non-null   object \n",
            " 10  GarageYrBlt    1379 non-null   float64\n",
            " 11  GrLivArea      1460 non-null   int64  \n",
            " 12  KitchenQual    1460 non-null   object \n",
            " 13  LotArea        1460 non-null   int64  \n",
            " 14  LotFrontage    1201 non-null   float64\n",
            " 15  MasVnrArea     1452 non-null   float64\n",
            " 16  OpenPorchSF    1460 non-null   int64  \n",
            " 17  OverallCond    1460 non-null   int64  \n",
            " 18  OverallQual    1460 non-null   int64  \n",
            " 19  TotalBsmtSF    1460 non-null   int64  \n",
            " 20  WoodDeckSF     155 non-null    float64\n",
            " 21  YearBuilt      1460 non-null   int64  \n",
            " 22  YearRemodAdd   1460 non-null   int64  \n",
            " 23  SalePrice      1460 non-null   int64  \n",
            "dtypes: float64(7), int64(13), object(4)\n",
            "memory usage: 273.9+ KB\n"
          ]
        }
      ],
      "source": [
        "df1.info()"
      ]
    },
    {
      "cell_type": "markdown",
      "metadata": {},
      "source": [
        "Dataset has 24 columns consisting of three different data types"
      ]
    },
    {
      "cell_type": "markdown",
      "metadata": {},
      "source": [
        "Check for duplicates"
      ]
    },
    {
      "cell_type": "code",
      "execution_count": 16,
      "metadata": {},
      "outputs": [
        {
          "data": {
            "text/plain": [
              "False"
            ]
          },
          "execution_count": 16,
          "metadata": {},
          "output_type": "execute_result"
        }
      ],
      "source": [
        "df1.head()\n",
        "True in df1.duplicated().unique()"
      ]
    },
    {
      "cell_type": "markdown",
      "metadata": {},
      "source": [
        "Considering that the preliminary objective is to predict prices for 4 inherited houses, then the dataset might lack some features/columns to give actual accurate prediction on the subject.\n",
        "* Logically considering then the dataset lack any features that represent the location of a house, which may influence the house sale price. For example there are important considerations which also affect house prices, like the nearest school or town centre.\n",
        "* Secondly a column is missing with the time of sale. Since housing market is affected by the country's or global economical state then that is also a very important feature to have to avoid bias."
      ]
    },
    {
      "cell_type": "markdown",
      "metadata": {},
      "source": [
        "These two aspects are already giving a preliminary suggestion that regression model is not suitable for this particular task and that classification modeling seems to be more suitable and would give a more honest estimation to the subject case."
      ]
    },
    {
      "cell_type": "markdown",
      "metadata": {},
      "source": [
        "---"
      ]
    },
    {
      "cell_type": "markdown",
      "metadata": {},
      "source": [
        "# Save the outputs"
      ]
    },
    {
      "cell_type": "code",
      "execution_count": 17,
      "metadata": {},
      "outputs": [],
      "source": [
        "try:\n",
        "    path = os.path.join(os.getcwd(), 'outputs/datasets/collection')\n",
        "    os.makedirs(path)\n",
        "except Exception as e:\n",
        "    print(e)"
      ]
    },
    {
      "cell_type": "code",
      "execution_count": 18,
      "metadata": {},
      "outputs": [],
      "source": [
        "try:\n",
        "    df1.to_csv(os.path.join(path, 'house_prices_records.csv'), index=False)\n",
        "except Exception as e:\n",
        "    print(e)"
      ]
    },
    {
      "cell_type": "code",
      "execution_count": 19,
      "metadata": {},
      "outputs": [],
      "source": [
        "try:\n",
        "    df2.to_csv(os.path.join(path, 'inherited_houses.csv'), index=False)\n",
        "except Exception as e:\n",
        "    print(e)"
      ]
    },
    {
      "cell_type": "markdown",
      "metadata": {},
      "source": [
        "---"
      ]
    },
    {
      "cell_type": "markdown",
      "metadata": {
        "id": "ltNetd085qHf"
      },
      "source": [
        "# Push files to Repo\n",
        "\n",
        "Clear outputs and push files to repo"
      ]
    },
    {
      "cell_type": "markdown",
      "metadata": {},
      "source": [
        "---"
      ]
    },
    {
      "cell_type": "markdown",
      "metadata": {},
      "source": [
        "# Conclusion"
      ]
    },
    {
      "cell_type": "markdown",
      "metadata": {},
      "source": [
        "In this notebook, environment was successfully set up, data was fetched from Kaggle, and initial data inspection was performed."
      ]
    },
    {
      "cell_type": "markdown",
      "metadata": {},
      "source": [
        "#### Next Steps:\n",
        "* Data visualization and cleaning"
      ]
    }
  ],
  "metadata": {
    "accelerator": "GPU",
    "colab": {
      "name": "Data Practitioner Jupyter Notebook.ipynb",
      "provenance": [],
      "toc_visible": true
    },
    "interpreter": {
      "hash": "8b8334dab9339717f727a1deaf837b322d7a41c20d15cc86be99a8e69ceec8ce"
    },
    "kernelspec": {
      "display_name": "Python 3.8.12 64-bit ('3.8.12': pyenv)",
      "name": "python3"
    },
    "language_info": {
      "codemirror_mode": {
        "name": "ipython",
        "version": 3
      },
      "file_extension": ".py",
      "mimetype": "text/x-python",
      "name": "python",
      "nbconvert_exporter": "python",
      "pygments_lexer": "ipython3",
      "version": "3.8.18"
    },
    "orig_nbformat": 2
  },
  "nbformat": 4,
  "nbformat_minor": 2
}
