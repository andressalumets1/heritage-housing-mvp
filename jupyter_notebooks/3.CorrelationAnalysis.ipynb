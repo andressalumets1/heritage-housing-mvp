{
 "cells": [
  {
   "cell_type": "markdown",
   "metadata": {},
   "source": [
    "# **3.Correlation Analysis**"
   ]
  },
  {
   "cell_type": "markdown",
   "metadata": {},
   "source": [
    "## Objectives\n",
    "1. Data exploration: understand the relationships between various features and the target variable ('SalePrice') in a dataset ('HousePricesCleaned.csv')\n",
    "2. Correlation analysis: analyze correlations (Pearson and Spearman) and predictive power score (PPS) to identify important features related to 'SalePrice'.\n",
    "3. Visualizations: create heatmaps, scatter plots, box plots to better understand feature relationships and their impact on 'SalePrice'.\n",
    "4. Extract meaningful insights to guide further analysis or model development.\n",
    "\n",
    "## Inputs\n",
    "* Dataset:'HousePricesCleaned.csv'\n",
    "\n",
    "## Outputs\n",
    "* Correlation heatmaps\n",
    "* PPS heatmap\n",
    "* Top features\n",
    "* Scatter plots\n",
    "* Box plots"
   ]
  },
  {
   "cell_type": "markdown",
   "metadata": {},
   "source": [
    "---"
   ]
  },
  {
   "cell_type": "markdown",
   "metadata": {},
   "source": [
    "# Change working directory"
   ]
  },
  {
   "cell_type": "markdown",
   "metadata": {},
   "source": [
    "Change the working directory from its current folder to its parent folder.\n",
    "* Access the current directory with os.getcwd()"
   ]
  },
  {
   "cell_type": "code",
   "execution_count": null,
   "metadata": {},
   "outputs": [],
   "source": [
    "import os\n",
    "current_dir = os.getcwd()\n",
    "current_dir"
   ]
  },
  {
   "cell_type": "markdown",
   "metadata": {},
   "source": [
    "Make the parent of the current directory the new current directory\n",
    "* os.path.dirname() gets the parent directory\n",
    "* os.chir() defines the new current directory"
   ]
  },
  {
   "cell_type": "code",
   "execution_count": null,
   "metadata": {},
   "outputs": [],
   "source": [
    "os.chdir(os.path.dirname(current_dir))\n",
    "print(\"You set a new current directory\")"
   ]
  },
  {
   "cell_type": "markdown",
   "metadata": {},
   "source": [
    "Confirm the new current directory"
   ]
  },
  {
   "cell_type": "code",
   "execution_count": null,
   "metadata": {},
   "outputs": [],
   "source": [
    "current_dir = os.getcwd()\n",
    "current_dir"
   ]
  },
  {
   "cell_type": "markdown",
   "metadata": {},
   "source": [
    "---"
   ]
  },
  {
   "cell_type": "markdown",
   "metadata": {},
   "source": [
    "# Data exploration and correlation analysis"
   ]
  },
  {
   "cell_type": "code",
   "execution_count": null,
   "metadata": {},
   "outputs": [],
   "source": [
    "import pandas as pd\n",
    "df1 = pd.read_csv(\"/workspace/heritage-housing-mvp/outputs/datasets/collection/HousePricesCleaned.csv\")\n",
    "df1.head(5)"
   ]
  },
  {
   "cell_type": "markdown",
   "metadata": {},
   "source": [
    "Since the whole dataset has 4 categorical variables that are of object data type then it is needed that those data types would be encoded into numerical in order to calculate correlation coefficients."
   ]
  },
  {
   "cell_type": "markdown",
   "metadata": {},
   "source": [
    "Use OneHotEncoder since that will encode the categories into 0 or 1. Thus making more columns with each categorical meaning. Which enables to evaluate each of categorical values relation coefficient to Sale Price."
   ]
  },
  {
   "cell_type": "code",
   "execution_count": null,
   "metadata": {},
   "outputs": [],
   "source": [
    "from ydata_profiling import ProfileReport\n",
    "pandas_report = ProfileReport(df=df1, minimal=True)\n",
    "pandas_report.to_notebook_iframe()"
   ]
  },
  {
   "cell_type": "code",
   "execution_count": null,
   "metadata": {},
   "outputs": [],
   "source": [
    "from feature_engine.encoding import OneHotEncoder\n",
    "encoder = OneHotEncoder(variables=df1.columns[df1.dtypes=='object'].to_list(), drop_last=False)\n",
    "df_ohe = encoder.fit_transform(df1)\n",
    "print(df_ohe.shape)\n",
    "df_ohe.columns.tolist()\n"
   ]
  },
  {
   "cell_type": "markdown",
   "metadata": {},
   "source": [
    "Through encoding, the modified dataset has now 38 columns.\n",
    "\n",
    "Now it is defined functions that will calculate the correlations, create heatmaps and display them.\n",
    "\n",
    "The heatmaps are going to be saved so they can be used later in the documentation.\n",
    "\n",
    "This code bit has been taken from Code Institute's churnometer"
   ]
  },
  {
   "cell_type": "markdown",
   "metadata": {},
   "source": [
    "Create folders first"
   ]
  },
  {
   "cell_type": "code",
   "execution_count": null,
   "metadata": {},
   "outputs": [],
   "source": [
    "import numpy as np\n",
    "import ppscore as pps\n",
    "import seaborn as sns\n",
    "sns.set(style='whitegrid')\n",
    "import matplotlib.pyplot as plt\n",
    "\n",
    "def heatmap_corr(df, threshold, figsize=(20,12), font_annot = 8):\n",
    "    \"\"\"\n",
    "    Function to create heatmap using correlations\n",
    "    \"\"\"\n",
    "    if len(df.columns) > 1:\n",
    "        mask = np.zeros_like(df, dtype=np.bool)\n",
    "        mask[np.triu_indices_from(mask)] = True\n",
    "        mask[abs(df) < threshold] = True\n",
    "\n",
    "        fig, axes = plt.subplots(figsize=figsize)\n",
    "        sns.heatmap(df, annot=True, xticklabels=True, yticklabels=True,\n",
    "                    mask=mask, cmap='viridis', annot_kws={\"size\": font_annot}, ax=axes,\n",
    "                    linewidth=0.5\n",
    "                    )\n",
    "        axes.set_yticklabels(df.columns, rotation=0)\n",
    "        plt.ylim(len(df.columns), 0)\n",
    "        plt.show()\n",
    "\n",
    "def heatmap_pps(df, threshold, figsize=(20, 12), font_annot=8):\n",
    "    \"\"\"\n",
    "    Function to create heatmap using pps.\n",
    "    \"\"\"\n",
    "    if len(df.columns) > 1:\n",
    "        mask = np.zeros_like(df, dtype=np.bool)\n",
    "        mask[abs(df) < threshold] = True\n",
    "        fig, ax = plt.subplots(figsize=figsize)\n",
    "        ax = sns.heatmap(df, annot=True, xticklabels=True, yticklabels=True,\n",
    "                        mask=mask, cmap='rocket_r', annot_kws={\"size\": font_annot},\n",
    "                        linewidth=0.05, linecolor='grey')\n",
    "        plt.ylim(len(df.columns), 0)\n",
    "        plt.show()\n",
    "\n",
    "def CalculateCorrAndPPS(df):\n",
    "    \"\"\"\n",
    "    Function to calculate correlations and pps.\n",
    "    \"\"\"\n",
    "    df_corr_spearman = df.corr(method=\"spearman\")\n",
    "    df_corr_pearson = df.corr(method='pearson')\n",
    "\n",
    "    pps_matrix_raw = pps.matrix(df)\n",
    "    pps_matrix = pps_matrix_raw.filter(['x', 'y', 'ppscore']).pivot(columns='x', index='y', values='ppscore')\n",
    "\n",
    "    pps_score_stats = pps_matrix_raw.query(\"ppscore < 1\").filter(['ppscore']).describe().T\n",
    "    print(\"PPS threshold - check PPS score IQR to decide threshold for heatmap \\n\")\n",
    "    print(pps_score_stats.round(3))\n",
    "\n",
    "    return df_corr_pearson, df_corr_spearman, pps_matrix\n",
    "\n",
    "def DisplayCorrAndPPS(df_corr_pearson, df_corr_spearman, pps_matrix, CorrThreshold, PPS_Threshold,\n",
    "                        figsize=(20, 12), font_annot=8):\n",
    "    \"\"\"\n",
    "    Function to display the correlations and pps.\n",
    "    \"\"\"\n",
    "\n",
    "    print(\"\\n\")\n",
    "    print(\"* Analyze how the target variable for your ML models are correlated with other variables (features and target)\")\n",
    "    print(\"* Analyze multi-colinearity, that is, how the features are correlated among themselves\")\n",
    "\n",
    "    print(\"\\n\")\n",
    "    print(\"*** Heatmap: Spearman Correlation ***\")\n",
    "    print(\"It evaluates monotonic relationship \\n\")\n",
    "    heatmap_corr(df=df_corr_spearman, threshold=CorrThreshold, figsize=figsize, font_annot=font_annot)\n",
    "\n",
    "    print(\"\\n\")\n",
    "    print(\"*** Heatmap: Pearson Correlation ***\")\n",
    "    print(\"It evaluates the linear relationship between two continous variables \\n\")\n",
    "    heatmap_corr(df=df_corr_pearson, threshold=CorrThreshold, figsize=figsize, font_annot=font_annot)\n",
    "\n",
    "    print(\"\\n\")\n",
    "    print(\"*** Heatmap: Power Predictive Score (PPS) ***\")\n",
    "    print(f\"PPS detects linear or non-linear relationships between two columns. \\n\"\n",
    "        f\"The score ranges from 0 (no predictive power) to 1 (perfect predictive power) \\n\")\n",
    "    heatmap_pps(df=pps_matrix, threshold=PPS_Threshold, figsize=figsize, font_annot=font_annot)"
   ]
  },
  {
   "cell_type": "markdown",
   "metadata": {},
   "source": [
    "A function is called which calculates the correlation and pps. Spearman and Pearson correlations are passed to evaluate the linear and monotonic relationships respectively between the features and the target."
   ]
  },
  {
   "cell_type": "code",
   "execution_count": null,
   "metadata": {},
   "outputs": [],
   "source": [
    "df_corr_pearson, df_corr_spearman, pps_matrix = CalculateCorrAndPPS(df_ohe)"
   ]
  },
  {
   "cell_type": "markdown",
   "metadata": {},
   "source": [
    "The distribution of PPS scores reveals a skewed pattern heavily concentrated at zero, suggesting a prevalence of weak predictive relationships. Despite the majority of scores being low, the presence of outliers with values up to 0.945 indicates sporadic instances of strong predictive power. Therefore, determining a suitable threshold for the heatmap should balance capturing both the common weak relationships and the occasional strong ones."
   ]
  },
  {
   "cell_type": "markdown",
   "metadata": {},
   "source": [
    "Display the correlations and pps by calling the DisplayCorrAndPPS function that was defined above"
   ]
  },
  {
   "cell_type": "code",
   "execution_count": null,
   "metadata": {},
   "outputs": [],
   "source": [
    "DisplayCorrAndPPS(df_corr_pearson = df_corr_pearson,\n",
    "                    df_corr_spearman = df_corr_spearman,\n",
    "                    pps_matrix = pps_matrix,\n",
    "                    CorrThreshold = 0.4, PPS_Threshold = 0.4,\n",
    "                    figsize=(12, 10), font_annot=10)"
   ]
  },
  {
   "cell_type": "markdown",
   "metadata": {},
   "source": [
    "When the correlations are calculated with the .corr() method, the return value is a pandas series, and the first item is the correlation between SalePrice and SalePrice. Since it is correlation between itself then [1:] is used to exclude it from the series.\n",
    "Next, sort the remaining values considering the absolute value, which is done by setting key=abs.\n",
    "Top 10 values are going to be shown."
   ]
  },
  {
   "cell_type": "code",
   "execution_count": null,
   "metadata": {},
   "outputs": [],
   "source": [
    "corr_spearman = df_ohe.corr(method='spearman')['SalePrice'].sort_values(key=abs, ascending=False)[1:]\n",
    "corr_spearman_positive = corr_spearman[corr_spearman > 0].head(10)\n",
    "corr_spearman_positive"
   ]
  },
  {
   "cell_type": "code",
   "execution_count": null,
   "metadata": {},
   "outputs": [],
   "source": [
    "corr_pearson = df_ohe.corr(method='pearson')['SalePrice'].sort_values(key=abs, ascending=False)[1:]\n",
    "corr_pearson_positive = corr_pearson[corr_pearson > 0]\n",
    "corr_pearson_positive"
   ]
  },
  {
   "cell_type": "markdown",
   "metadata": {},
   "source": [
    "Now combine the both correlations."
   ]
  },
  {
   "cell_type": "code",
   "execution_count": null,
   "metadata": {},
   "outputs": [],
   "source": [
    "combined_corr = pd.concat([corr_spearman_positive, corr_pearson_positive])\n",
    "combined_corr = combined_corr.groupby(combined_corr.index).max().sort_values(ascending=False)\n",
    "top_10_features = combined_corr.head(11)\n",
    "\n",
    "print(top_10_features)"
   ]
  },
  {
   "cell_type": "markdown",
   "metadata": {},
   "source": [
    "It was taken 11 values since while analyzing this dataset KitchenQual_Ex and KitchenQual_Gd both were included in the list. However it was needed 10 different features thus KitchenQual Ex/Gd in general can be seen as high importance."
   ]
  },
  {
   "cell_type": "markdown",
   "metadata": {},
   "source": [
    "The variables that are going to be focused on:\n",
    "1. OverallQual\n",
    "2. GrLivArea\n",
    "3. YearBuilt\n",
    "4. GarageArea\n",
    "5. TotalBsmtSF\n",
    "6. 1stFlrSF\n",
    "7. YearRemodAdd\n",
    "8. GarageYrBlt\n",
    "9. KitchenQual\n",
    "10. OpenPorchSF"
   ]
  },
  {
   "cell_type": "markdown",
   "metadata": {},
   "source": [
    "---"
   ]
  },
  {
   "cell_type": "markdown",
   "metadata": {},
   "source": [
    "## EDA on the variables"
   ]
  },
  {
   "cell_type": "markdown",
   "metadata": {},
   "source": [
    "An exploratory analysis is made. Firstly with scatter plots, which are effective for visualizing relationships between two continous variables."
   ]
  },
  {
   "cell_type": "code",
   "execution_count": null,
   "metadata": {},
   "outputs": [],
   "source": [
    "vars_to_study1 = [ 'GrLivArea', 'YearBuilt', 'GarageArea', 'TotalBsmtSF', '1stFlrSF', 'YearRemodAdd', 'GarageYrBlt', 'OpenPorchSF']"
   ]
  },
  {
   "cell_type": "code",
   "execution_count": null,
   "metadata": {},
   "outputs": [],
   "source": [
    "import seaborn as sns\n",
    "import matplotlib.pyplot as plt\n",
    "\n",
    "def plot_scatter(df, variables, target='SalePrice'):\n",
    "    for var in variables:\n",
    "        plt.figure(figsize=(10, 6))\n",
    "        sns.scatterplot(data=df, x=var, y=target)\n",
    "        plt.title(f'{var} vs {target}')\n",
    "        plt.xlabel(var)\n",
    "        plt.ylabel(target)\n",
    "        plt.show()\n",
    "\n",
    "plot_scatter(df_ohe, vars_to_study1)"
   ]
  },
  {
   "cell_type": "markdown",
   "metadata": {},
   "source": [
    "**Summary of insights:**\n",
    "1. Large first-floor areas are associated with higher sale prices.\n",
    "2. Larger garage areas generally lead to higher sale prices.\n",
    "3. There is a clear historical trend showing increased value for more recently built garages.\n",
    "4. Larger above-ground living areas are associated with higher sale prices.\n",
    "5. Slight increase in sale prices with larger open porch areas. Wide spread and variability in sale prices for similar porch sizes. Many properties with zero open porch area clustering at lower sale prices.\n",
    "6. Larger basement areas are associated with higher sale prices. High-value properties with extensive basements.\n",
    "7. Not surprisingly, houses built more recently generally have higher sale prices. Significant increase in sale prcies for houses built after 1980, especially after 2000. Some older houses have high sale prices, possibly due to renovations or historical value.\n",
    "8. More recent remodels and additions are associated with higher sale prices. Notable increase in sale prices for houses remodeled after 2000."
   ]
  },
  {
   "cell_type": "markdown",
   "metadata": {},
   "source": [
    "Secondly we are making box plots, which are useful for visualizing the distribution of sale prices across different categorical variables."
   ]
  },
  {
   "cell_type": "code",
   "execution_count": null,
   "metadata": {},
   "outputs": [],
   "source": [
    "vars_to_study2 = ['OverallQual', 'KitchenQual_Ex', 'KitchenQual_Gd']"
   ]
  },
  {
   "cell_type": "code",
   "execution_count": null,
   "metadata": {},
   "outputs": [],
   "source": [
    "def plot_box(df, variables, target='SalePrice'):\n",
    "    for var in variables:\n",
    "        plt.figure(figsize=(10, 6))\n",
    "        sns.boxplot(data=df, x=var, y=target)\n",
    "        plt.title(f'{var} vs {target}')\n",
    "        plt.xlabel(var)\n",
    "        plt.ylabel(target)\n",
    "        plt.show()\n",
    "\n",
    "plot_box(df_ohe, vars_to_study2)"
   ]
  },
  {
   "cell_type": "markdown",
   "metadata": {},
   "source": [
    "**Box Plot Insights:**\n",
    "1. Kitchen quality:\n",
    "* Both excellent and good kitchen quality significantly contribute to higher sale prices. Howeverm the impact is more substantial for excellent kitchen quality.\n",
    "2. Overall Quality:\n",
    "* Overall quality has a strong positive correlation with sale prices, showing that higher overall quality ratings generally lead to higher sale prices.\n",
    "3. Market Value:\n",
    "* Houses with higher kitchen quality and overall quality not only command higher median prices but also show greater variability and a higher propensity for outliers in the upper price range."
   ]
  },
  {
   "cell_type": "markdown",
   "metadata": {},
   "source": [
    "---"
   ]
  },
  {
   "cell_type": "markdown",
   "metadata": {},
   "source": [
    "## Summary: Understanding housing market dynamics"
   ]
  },
  {
   "cell_type": "markdown",
   "metadata": {},
   "source": [
    "This notebook explored a dataset of housing features and sale prices ('HousePricesCleaned.csv') to uncover insights crucial for understanding housing market dynamics.\n",
    "* Top influential features strongly correlated with higher sale prices:\n",
    "    *  OverallQual, GrLivArea, YearBuilt, GarageArea, TotalBsmtSF, 1stFlrSF, YearRemodAdd, GarageYrBlt, KitchenQual and OpenPorchSF.\n",
    "\n",
    "* Both Pearson and Spearman correlations were calculated to capture linear and monotonic relationships, respectively. This analysis helps in identifying features that exhibit strong associations with 'SalePrice'.\n",
    "\n",
    "* Predictive Power Score: Used to detect linear and non-linear relationships, providing additional insights into feature importance beyond traditional correlation metrics.\n",
    "\n",
    "* Scatter plots highlighted trends such as higher sale prices associated with larger living areas, newer construction, and extensive basement areas. Box plots showed the impact of kitchen quality and overall quality on sale prices.\n",
    "\n",
    "Next step:\n",
    "* Feature engineering"
   ]
  }
 ],
 "metadata": {
  "kernelspec": {
   "display_name": "Python 3",
   "language": "python",
   "name": "python3"
  },
  "language_info": {
   "codemirror_mode": {
    "name": "ipython",
    "version": 3
   },
   "file_extension": ".py",
   "mimetype": "text/x-python",
   "name": "python",
   "nbconvert_exporter": "python",
   "pygments_lexer": "ipython3",
   "version": "3.8.18"
  }
 },
 "nbformat": 4,
 "nbformat_minor": 2
}
